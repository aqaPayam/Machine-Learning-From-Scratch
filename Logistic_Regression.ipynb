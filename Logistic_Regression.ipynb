{
  "nbformat": 4,
  "nbformat_minor": 0,
  "metadata": {
    "colab": {
      "provenance": [],
      "gpuType": "T4"
    },
    "kernelspec": {
      "name": "python3",
      "display_name": "Python 3"
    },
    "language_info": {
      "name": "python"
    },
    "accelerator": "GPU"
  },
  "cells": [
    {
      "cell_type": "markdown",
      "source": [
        "400104867\n",
        "\n",
        "Payam Taebi\n",
        "\n"
      ],
      "metadata": {
        "id": "MT-ucU8DVPt8"
      }
    },
    {
      "cell_type": "markdown",
      "source": [
        "# Bank Marketing Classification\n",
        "\n",
        "In this part of the assignment we want to do a classification task using PyTorch on bank marketing dataset."
      ],
      "metadata": {
        "id": "mDoQOE_1H9Rc"
      }
    },
    {
      "cell_type": "markdown",
      "source": [
        "#Import Library"
      ],
      "metadata": {
        "id": "rZlNNmgqYkV4"
      }
    },
    {
      "cell_type": "code",
      "source": [
        "import torch\n",
        "import torch.nn as nn\n",
        "import torch.optim as optim\n",
        "import pandas as pd\n",
        "import tqdm\n",
        "import numpy as np\n",
        "import matplotlib.pyplot as plt\n",
        "from sklearn.model_selection import train_test_split\n",
        "from sklearn.preprocessing import StandardScaler, LabelEncoder\n",
        "from torch.utils.data import DataLoader, TensorDataset"
      ],
      "metadata": {
        "id": "NOh9eJ4pYnu2"
      },
      "execution_count": 28,
      "outputs": []
    },
    {
      "cell_type": "markdown",
      "source": [
        "#Load Dataset\n",
        "Here, you should download and load the dataset. After that, you should split train dataset to train and validation sets. Finally, define the dataloaders for `train`, `validation` and `test`"
      ],
      "metadata": {
        "id": "EJaMVgX1XcZm"
      }
    },
    {
      "cell_type": "code",
      "source": [
        "data = pd.read_csv('bank-full.csv', delimiter=';')\n",
        "print(data.head())\n",
        "\n",
        "# Initial data inspection\n",
        "print(data.info())\n",
        "print(data.describe())\n",
        "\n",
        "# Handle categorical variables\n",
        "categorical_columns = data.select_dtypes(include=['object']).columns\n",
        "label_encoders = {}\n",
        "\n",
        "for column in categorical_columns:\n",
        "    le = LabelEncoder()\n",
        "    data[column] = le.fit_transform(data[column])\n",
        "    label_encoders[column] = le\n",
        "\n",
        "# Separate features and target\n",
        "X = data.drop('y', axis=1)  # Assuming 'y' is the target column\n",
        "y = data['y']\n",
        "\n",
        "# Standardize the features\n",
        "scaler = StandardScaler()\n",
        "X = scaler.fit_transform(X)\n",
        "\n",
        "# Split the data\n",
        "X_train, X_temp, y_train, y_temp = train_test_split(X, y, test_size=0.4, random_state=42)\n",
        "X_val, X_test, y_val, y_test = train_test_split(X_temp, y_temp, test_size=0.5, random_state=42)\n",
        "\n",
        "# Convert to PyTorch tensors\n",
        "X_train_tensor = torch.tensor(X_train, dtype=torch.float32)\n",
        "X_val_tensor = torch.tensor(X_val, dtype=torch.float32)\n",
        "X_test_tensor = torch.tensor(X_test, dtype=torch.float32)\n",
        "y_train_tensor = torch.tensor(y_train.values, dtype=torch.long)\n",
        "y_val_tensor = torch.tensor(y_val.values, dtype=torch.long)\n",
        "y_test_tensor = torch.tensor(y_test.values, dtype=torch.long)\n",
        "\n",
        "# Create DataLoader\n",
        "train_dataset = TensorDataset(X_train_tensor, y_train_tensor)\n",
        "val_dataset = TensorDataset(X_val_tensor, y_val_tensor)\n",
        "test_dataset = TensorDataset(X_test_tensor, y_test_tensor)\n",
        "\n",
        "train_loader = DataLoader(train_dataset, batch_size=64, shuffle=True)\n",
        "val_loader = DataLoader(val_dataset, batch_size=64, shuffle=False)\n",
        "test_loader = DataLoader(test_dataset, batch_size=64, shuffle=False)\n",
        "\n",
        "\n",
        "for batch in train_loader:\n",
        "  print(batch[0].shape)\n",
        "  print(batch[1].shape)\n",
        "  break\n"
      ],
      "metadata": {
        "colab": {
          "base_uri": "https://localhost:8080/"
        },
        "id": "mCnEzgaA_gIr",
        "outputId": "21f5182c-7638-4368-effb-cb28b532b72f"
      },
      "execution_count": 29,
      "outputs": [
        {
          "output_type": "stream",
          "name": "stdout",
          "text": [
            "   age           job  marital  education default  balance housing loan  \\\n",
            "0   58    management  married   tertiary      no     2143     yes   no   \n",
            "1   44    technician   single  secondary      no       29     yes   no   \n",
            "2   33  entrepreneur  married  secondary      no        2     yes  yes   \n",
            "3   47   blue-collar  married    unknown      no     1506     yes   no   \n",
            "4   33       unknown   single    unknown      no        1      no   no   \n",
            "\n",
            "   contact  day month  duration  campaign  pdays  previous poutcome   y  \n",
            "0  unknown    5   may       261         1     -1         0  unknown  no  \n",
            "1  unknown    5   may       151         1     -1         0  unknown  no  \n",
            "2  unknown    5   may        76         1     -1         0  unknown  no  \n",
            "3  unknown    5   may        92         1     -1         0  unknown  no  \n",
            "4  unknown    5   may       198         1     -1         0  unknown  no  \n",
            "<class 'pandas.core.frame.DataFrame'>\n",
            "RangeIndex: 45211 entries, 0 to 45210\n",
            "Data columns (total 17 columns):\n",
            " #   Column     Non-Null Count  Dtype \n",
            "---  ------     --------------  ----- \n",
            " 0   age        45211 non-null  int64 \n",
            " 1   job        45211 non-null  object\n",
            " 2   marital    45211 non-null  object\n",
            " 3   education  45211 non-null  object\n",
            " 4   default    45211 non-null  object\n",
            " 5   balance    45211 non-null  int64 \n",
            " 6   housing    45211 non-null  object\n",
            " 7   loan       45211 non-null  object\n",
            " 8   contact    45211 non-null  object\n",
            " 9   day        45211 non-null  int64 \n",
            " 10  month      45211 non-null  object\n",
            " 11  duration   45211 non-null  int64 \n",
            " 12  campaign   45211 non-null  int64 \n",
            " 13  pdays      45211 non-null  int64 \n",
            " 14  previous   45211 non-null  int64 \n",
            " 15  poutcome   45211 non-null  object\n",
            " 16  y          45211 non-null  object\n",
            "dtypes: int64(7), object(10)\n",
            "memory usage: 5.9+ MB\n",
            "None\n",
            "                age        balance           day      duration      campaign  \\\n",
            "count  45211.000000   45211.000000  45211.000000  45211.000000  45211.000000   \n",
            "mean      40.936210    1362.272058     15.806419    258.163080      2.763841   \n",
            "std       10.618762    3044.765829      8.322476    257.527812      3.098021   \n",
            "min       18.000000   -8019.000000      1.000000      0.000000      1.000000   \n",
            "25%       33.000000      72.000000      8.000000    103.000000      1.000000   \n",
            "50%       39.000000     448.000000     16.000000    180.000000      2.000000   \n",
            "75%       48.000000    1428.000000     21.000000    319.000000      3.000000   \n",
            "max       95.000000  102127.000000     31.000000   4918.000000     63.000000   \n",
            "\n",
            "              pdays      previous  \n",
            "count  45211.000000  45211.000000  \n",
            "mean      40.197828      0.580323  \n",
            "std      100.128746      2.303441  \n",
            "min       -1.000000      0.000000  \n",
            "25%       -1.000000      0.000000  \n",
            "50%       -1.000000      0.000000  \n",
            "75%       -1.000000      0.000000  \n",
            "max      871.000000    275.000000  \n",
            "torch.Size([64, 16])\n",
            "torch.Size([64])\n"
          ]
        }
      ]
    },
    {
      "cell_type": "markdown",
      "source": [
        "#Model\n",
        "define your model in here"
      ],
      "metadata": {
        "id": "GBtQo2PBY9zS"
      }
    },
    {
      "cell_type": "code",
      "source": [
        "import torch.nn.functional as F\n",
        "\n",
        "class BankMarketingNet(nn.Module):\n",
        "    def __init__(self, input_dim):\n",
        "        super(BankMarketingNet, self).__init__()\n",
        "        self.fc1 = nn.Linear(input_dim, 64)\n",
        "        self.fc2 = nn.Linear(64, 16)\n",
        "        self.fc3 = nn.Linear(16, 2)  # Output layer for binary classification (0 or 1)\n",
        "\n",
        "    def forward(self, x):\n",
        "        x = F.relu(self.fc1(x))\n",
        "        x = F.relu(self.fc2(x))\n",
        "        x = self.fc3(x)\n",
        "        return x\n",
        "\n",
        "# Initialize the model with input dimension\n",
        "input_dim = X_train.shape[1]\n",
        "model = BankMarketingNet(input_dim)\n"
      ],
      "metadata": {
        "id": "C5k1GGexZCGD"
      },
      "execution_count": 30,
      "outputs": []
    },
    {
      "cell_type": "markdown",
      "source": [
        "#Train your model\n",
        "Define `criterion` and `optimizer`.\n",
        "Train your model\n",
        "\n",
        "Tasks:\n",
        "- [ ] Things that are needed to be printed in each epoch:\n",
        "  - Number of epoch\n",
        "  - Train loss\n",
        "  - Validation loss\n",
        "- [ ] save train/validation loss (of each epoch) in an array for later usage"
      ],
      "metadata": {
        "id": "P_ef2VVkZHpj"
      }
    },
    {
      "cell_type": "code",
      "source": [
        "input_dim = X_train.shape[1]\n",
        "model = BankMarketingNet(input_dim)\n",
        "criterion = nn.CrossEntropyLoss()\n",
        "optimizer = optim.Adam(model.parameters(), lr=0.001)\n",
        "\n",
        "# Training loop\n",
        "num_epochs = 50\n",
        "train_losses = []\n",
        "val_losses = []\n",
        "best_val_loss = float('inf')\n",
        "best_model_path = 'best_model.pth'\n",
        "\n",
        "for epoch in range(num_epochs):\n",
        "    model.train()\n",
        "    running_train_loss = 0.0\n",
        "    for inputs, labels in train_loader:\n",
        "        optimizer.zero_grad()\n",
        "        outputs = model(inputs)\n",
        "        loss = criterion(outputs, labels)\n",
        "        loss.backward()\n",
        "        optimizer.step()\n",
        "        running_train_loss += loss.item()\n",
        "    train_loss = running_train_loss / len(train_loader)\n",
        "    train_losses.append(train_loss)\n",
        "\n",
        "    # Validation loop\n",
        "    model.eval()\n",
        "    running_val_loss = 0.0\n",
        "    with torch.no_grad():\n",
        "        for inputs, labels in val_loader:\n",
        "            outputs = model(inputs)\n",
        "            loss = criterion(outputs, labels)\n",
        "            running_val_loss += loss.item()\n",
        "    val_loss = running_val_loss / len(val_loader)\n",
        "    val_losses.append(val_loss)\n",
        "\n",
        "    # Save the best model\n",
        "    if val_loss < best_val_loss:\n",
        "        best_val_loss = val_loss\n",
        "        torch.save(model.state_dict(), best_model_path)\n",
        "\n",
        "    # Print epoch details\n",
        "    print(f'Epoch [{epoch+1}/{num_epochs}], Train Loss: {train_loss:.4f}, Val Loss: {val_loss:.4f}')\n",
        "\n",
        "# Save the losses for later usage\n",
        "train_losses_array = np.array(train_losses)\n",
        "val_losses_array = np.array(val_losses)\n",
        "\n",
        "# Plot the training and validation loss\n",
        "plt.plot(train_losses, label='Train Loss')\n",
        "plt.plot(val_losses, label='Validation Loss')\n",
        "plt.xlabel('Epoch')\n",
        "plt.ylabel('Loss')\n",
        "plt.legend()\n",
        "plt.show()"
      ],
      "metadata": {
        "colab": {
          "base_uri": "https://localhost:8080/",
          "height": 1000
        },
        "id": "7BC2acuYZH0j",
        "outputId": "5d723b15-e857-42bf-d61f-56e99af254cf"
      },
      "execution_count": 31,
      "outputs": [
        {
          "output_type": "stream",
          "name": "stdout",
          "text": [
            "Epoch [1/50], Train Loss: 0.3048, Val Loss: 0.2476\n",
            "Epoch [2/50], Train Loss: 0.2421, Val Loss: 0.2380\n",
            "Epoch [3/50], Train Loss: 0.2352, Val Loss: 0.2346\n",
            "Epoch [4/50], Train Loss: 0.2311, Val Loss: 0.2340\n",
            "Epoch [5/50], Train Loss: 0.2296, Val Loss: 0.2318\n",
            "Epoch [6/50], Train Loss: 0.2271, Val Loss: 0.2310\n",
            "Epoch [7/50], Train Loss: 0.2250, Val Loss: 0.2302\n",
            "Epoch [8/50], Train Loss: 0.2241, Val Loss: 0.2299\n",
            "Epoch [9/50], Train Loss: 0.2224, Val Loss: 0.2318\n",
            "Epoch [10/50], Train Loss: 0.2212, Val Loss: 0.2297\n",
            "Epoch [11/50], Train Loss: 0.2191, Val Loss: 0.2276\n",
            "Epoch [12/50], Train Loss: 0.2179, Val Loss: 0.2297\n",
            "Epoch [13/50], Train Loss: 0.2163, Val Loss: 0.2277\n",
            "Epoch [14/50], Train Loss: 0.2151, Val Loss: 0.2276\n",
            "Epoch [15/50], Train Loss: 0.2141, Val Loss: 0.2261\n",
            "Epoch [16/50], Train Loss: 0.2126, Val Loss: 0.2271\n",
            "Epoch [17/50], Train Loss: 0.2116, Val Loss: 0.2297\n",
            "Epoch [18/50], Train Loss: 0.2099, Val Loss: 0.2282\n",
            "Epoch [19/50], Train Loss: 0.2090, Val Loss: 0.2287\n",
            "Epoch [20/50], Train Loss: 0.2076, Val Loss: 0.2287\n",
            "Epoch [21/50], Train Loss: 0.2069, Val Loss: 0.2337\n",
            "Epoch [22/50], Train Loss: 0.2064, Val Loss: 0.2299\n",
            "Epoch [23/50], Train Loss: 0.2050, Val Loss: 0.2289\n",
            "Epoch [24/50], Train Loss: 0.2048, Val Loss: 0.2289\n",
            "Epoch [25/50], Train Loss: 0.2033, Val Loss: 0.2301\n",
            "Epoch [26/50], Train Loss: 0.2026, Val Loss: 0.2286\n",
            "Epoch [27/50], Train Loss: 0.2021, Val Loss: 0.2316\n",
            "Epoch [28/50], Train Loss: 0.2014, Val Loss: 0.2322\n",
            "Epoch [29/50], Train Loss: 0.2002, Val Loss: 0.2295\n",
            "Epoch [30/50], Train Loss: 0.1996, Val Loss: 0.2332\n",
            "Epoch [31/50], Train Loss: 0.1988, Val Loss: 0.2335\n",
            "Epoch [32/50], Train Loss: 0.1986, Val Loss: 0.2323\n",
            "Epoch [33/50], Train Loss: 0.1975, Val Loss: 0.2333\n",
            "Epoch [34/50], Train Loss: 0.1973, Val Loss: 0.2334\n",
            "Epoch [35/50], Train Loss: 0.1963, Val Loss: 0.2328\n",
            "Epoch [36/50], Train Loss: 0.1958, Val Loss: 0.2336\n",
            "Epoch [37/50], Train Loss: 0.1947, Val Loss: 0.2372\n",
            "Epoch [38/50], Train Loss: 0.1946, Val Loss: 0.2356\n",
            "Epoch [39/50], Train Loss: 0.1944, Val Loss: 0.2349\n",
            "Epoch [40/50], Train Loss: 0.1934, Val Loss: 0.2380\n",
            "Epoch [41/50], Train Loss: 0.1927, Val Loss: 0.2349\n",
            "Epoch [42/50], Train Loss: 0.1920, Val Loss: 0.2354\n",
            "Epoch [43/50], Train Loss: 0.1918, Val Loss: 0.2335\n",
            "Epoch [44/50], Train Loss: 0.1918, Val Loss: 0.2412\n",
            "Epoch [45/50], Train Loss: 0.1905, Val Loss: 0.2431\n",
            "Epoch [46/50], Train Loss: 0.1904, Val Loss: 0.2365\n",
            "Epoch [47/50], Train Loss: 0.1908, Val Loss: 0.2360\n",
            "Epoch [48/50], Train Loss: 0.1897, Val Loss: 0.2372\n",
            "Epoch [49/50], Train Loss: 0.1891, Val Loss: 0.2382\n",
            "Epoch [50/50], Train Loss: 0.1892, Val Loss: 0.2379\n"
          ]
        },
        {
          "output_type": "display_data",
          "data": {
            "text/plain": [
              "<Figure size 640x480 with 1 Axes>"
            ],
            "image/png": "[encoded data removed]"
          },
          "metadata": {}
        }
      ]
    },
    {
      "cell_type": "markdown",
      "source": [
        "## Evaluation\n",
        "\n",
        "Test your trained model (using the Test Dataloader that you have)."
      ],
      "metadata": {
        "id": "MRo2s0wMakLe"
      }
    },
    {
      "cell_type": "markdown",
      "source": [],
      "metadata": {
        "id": "-ghz5emOCya5"
      }
    },
    {
      "cell_type": "code",
      "source": [
        "best_model = BankMarketingNet(input_dim)\n",
        "best_model.load_state_dict(torch.load('best_model.pth'))\n",
        "best_model.eval()\n",
        "\n",
        "# Evaluation function\n",
        "def evaluate(model, dataloader, criterion):\n",
        "    model.eval()\n",
        "    running_loss = 0.0\n",
        "    correct_predictions = 0\n",
        "    total_predictions = 0\n",
        "\n",
        "    with torch.no_grad():\n",
        "        for inputs, labels in dataloader:\n",
        "            outputs = model(inputs)\n",
        "            loss = criterion(outputs, labels)\n",
        "            running_loss += loss.item()\n",
        "\n",
        "            _, predicted = torch.max(outputs, 1)\n",
        "            correct_predictions += (predicted == labels).sum().item()\n",
        "            total_predictions += labels.size(0)\n",
        "\n",
        "    average_loss = running_loss / len(dataloader)\n",
        "    accuracy = correct_predictions / total_predictions\n",
        "    return average_loss, accuracy\n",
        "\n",
        "# Evaluate the model on the test set\n",
        "test_loss, test_accuracy = evaluate(best_model, test_loader, criterion)\n",
        "\n",
        "print(f'Test Loss: {test_loss:.4f}, Test Accuracy: {test_accuracy:.4f}')"
      ],
      "metadata": {
        "colab": {
          "base_uri": "https://localhost:8080/"
        },
        "id": "6TplSeYPakTT",
        "outputId": "7f799108-ba18-4c78-c62b-59bf0a4fe2e8"
      },
      "execution_count": 32,
      "outputs": [
        {
          "output_type": "stream",
          "name": "stdout",
          "text": [
            "Test Loss: 0.2266, Test Accuracy: 0.9010\n"
          ]
        }
      ]
    },
    {
      "cell_type": "code",
      "source": [],
      "metadata": {
        "id": "A07k-iJ1D-9h"
      },
      "execution_count": 32,
      "outputs": []
    }
  ]
}