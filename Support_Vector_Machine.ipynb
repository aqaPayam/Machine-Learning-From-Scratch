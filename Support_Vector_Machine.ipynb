{
 "cells": [
  {
   "cell_type": "markdown",
   "id": "1b77af46",
   "metadata": {
    "id": "HRedCVDZppt1",
    "papermill": {
     "duration": 0.014485,
     "end_time": "2024-05-11T11:12:37.158988",
     "exception": false,
     "start_time": "2024-05-11T11:12:37.144503",
     "status": "completed"
    },
    "tags": []
   },
   "source": [
    "<img src=\"./sharif.png\" alt=\"SUT logo\" width=300 height=300 align=left class=\"saturate\">\n",
    "\n",
    "<br>\n",
    "<font>\n",
    "<div dir=ltr align=center>\n",
    "<font color=0F5298 size=7>\n",
    "    Machine Learning <br>\n",
    "<font color=2565AE size=5>\n",
    "    Computer Engineering Department <br>\n",
    "    Spring 2024<br>\n",
    "<font color=3C99D size=5>\n",
    "    Practical Assignment 3<br>\n",
    "<font color=696880 size=4>\n",
    "    Ashkan Majidi - Shayan Salehi - Amirhossein Alamdar\n",
    "\n",
    "____"
   ]
  },
  {
   "cell_type": "markdown",
   "id": "f84b6e02",
   "metadata": {
    "id": "bppyGQ1nppt3",
    "papermill": {
     "duration": 0.014623,
     "end_time": "2024-05-11T11:12:37.187847",
     "exception": false,
     "start_time": "2024-05-11T11:12:37.173224",
     "status": "completed"
    },
    "tags": []
   },
   "source": [
    "# Personal Data"
   ]
  },
  {
   "cell_type": "code",
   "execution_count": 1,
   "id": "1e434cd3",
   "metadata": {
    "execution": {
     "iopub.execute_input": "2024-05-11T11:12:37.219008Z",
     "iopub.status.busy": "2024-05-11T11:12:37.218113Z",
     "iopub.status.idle": "2024-05-11T11:12:37.231781Z",
     "shell.execute_reply": "2024-05-11T11:12:37.230892Z"
    },
    "id": "zrU6ggvWppt3",
    "papermill": {
     "duration": 0.032746,
     "end_time": "2024-05-11T11:12:37.234748",
     "exception": false,
     "start_time": "2024-05-11T11:12:37.202002",
     "status": "completed"
    },
    "tags": []
   },
   "outputs": [],
   "source": [
    "student_number = '400104867'\n",
    "first_name = 'Payam'\n",
    "last_name = 'Taebi'"
   ]
  },
  {
   "cell_type": "markdown",
   "id": "65887de7",
   "metadata": {
    "id": "vHBa0SF4ppt4",
    "papermill": {
     "duration": 0.013976,
     "end_time": "2024-05-11T11:12:37.264493",
     "exception": false,
     "start_time": "2024-05-11T11:12:37.250517",
     "status": "completed"
    },
    "tags": []
   },
   "source": [
    "# Introduction\n",
    "\n",
    "In this assignment, you will implement SVM (Support Vector Machines) for classification.\n"
   ]
  },
  {
   "cell_type": "markdown",
   "id": "99e58f8b",
   "metadata": {
    "id": "2EqmdzELppt4",
    "papermill": {
     "duration": 0.014202,
     "end_time": "2024-05-11T11:12:37.292934",
     "exception": false,
     "start_time": "2024-05-11T11:12:37.278732",
     "status": "completed"
    },
    "tags": []
   },
   "source": [
    "# Data Prepfocessing"
   ]
  },
  {
   "cell_type": "markdown",
   "id": "91f0af9d",
   "metadata": {
    "id": "pVftWMAyppt5",
    "papermill": {
     "duration": 0.013661,
     "end_time": "2024-05-11T11:12:37.320775",
     "exception": false,
     "start_time": "2024-05-11T11:12:37.307114",
     "status": "completed"
    },
    "tags": []
   },
   "source": [
    "Import your needed libraries in following cell."
   ]
  },
  {
   "cell_type": "code",
   "execution_count": 2,
   "id": "e8f0ff98",
   "metadata": {
    "execution": {
     "iopub.execute_input": "2024-05-11T11:12:37.351460Z",
     "iopub.status.busy": "2024-05-11T11:12:37.350602Z",
     "iopub.status.idle": "2024-05-11T11:12:54.478885Z",
     "shell.execute_reply": "2024-05-11T11:12:54.477254Z"
    },
    "papermill": {
     "duration": 17.147665,
     "end_time": "2024-05-11T11:12:54.482383",
     "exception": false,
     "start_time": "2024-05-11T11:12:37.334718",
     "status": "completed"
    },
    "tags": []
   },
   "outputs": [
    {
     "name": "stdout",
     "output_type": "stream",
     "text": [
      "Collecting cvxopt\r\n",
      "  Downloading cvxopt-1.3.2-cp310-cp310-manylinux_2_17_x86_64.manylinux2014_x86_64.whl.metadata (1.3 kB)\r\n",
      "Downloading cvxopt-1.3.2-cp310-cp310-manylinux_2_17_x86_64.manylinux2014_x86_64.whl (13.6 MB)\r\n",
      "\u001b[2K   \u001b[90m━━━━━━━━━━━━━━━━━━━━━━━━━━━━━━━━━━━━━━━━\u001b[0m \u001b[32m13.6/13.6 MB\u001b[0m \u001b[31m65.8 MB/s\u001b[0m eta \u001b[36m0:00:00\u001b[0m\r\n",
      "\u001b[?25hInstalling collected packages: cvxopt\r\n",
      "Successfully installed cvxopt-1.3.2\r\n"
     ]
    }
   ],
   "source": [
    "!pip install cvxopt"
   ]
  },
  {
   "cell_type": "code",
   "execution_count": 3,
   "id": "2e20441f",
   "metadata": {
    "execution": {
     "iopub.execute_input": "2024-05-11T11:12:54.518253Z",
     "iopub.status.busy": "2024-05-11T11:12:54.517771Z",
     "iopub.status.idle": "2024-05-11T11:12:57.444605Z",
     "shell.execute_reply": "2024-05-11T11:12:57.443542Z"
    },
    "id": "WMa2qES3ppt5",
    "papermill": {
     "duration": 2.947577,
     "end_time": "2024-05-11T11:12:57.447835",
     "exception": false,
     "start_time": "2024-05-11T11:12:54.500258",
     "status": "completed"
    },
    "tags": []
   },
   "outputs": [],
   "source": [
    "import pandas as pd\n",
    "import numpy as np\n",
    "from sklearn.model_selection import train_test_split\n",
    "from sklearn.preprocessing import StandardScaler\n",
    "from cvxopt import matrix, solvers\n",
    "import numpy as np\n",
    "from sklearn.metrics import accuracy_score, balanced_accuracy_score, confusion_matrix\n",
    "import seaborn as sns\n",
    "import matplotlib.pyplot as plt"
   ]
  },
  {
   "cell_type": "markdown",
   "id": "935f1ab2",
   "metadata": {
    "id": "VWp4c-19ppt6",
    "papermill": {
     "duration": 0.014729,
     "end_time": "2024-05-11T11:12:57.478520",
     "exception": false,
     "start_time": "2024-05-11T11:12:57.463791",
     "status": "completed"
    },
    "tags": []
   },
   "source": [
    "Load data from ```satimage``` dataset and split data to features and labels. The ```label``` column is our target variable."
   ]
  },
  {
   "cell_type": "code",
   "execution_count": 4,
   "id": "457dc471",
   "metadata": {
    "execution": {
     "iopub.execute_input": "2024-05-11T11:12:57.511796Z",
     "iopub.status.busy": "2024-05-11T11:12:57.510980Z",
     "iopub.status.idle": "2024-05-11T11:12:57.651690Z",
     "shell.execute_reply": "2024-05-11T11:12:57.649969Z"
    },
    "id": "2j4zcP7yppt6",
    "outputId": "4c64220c-872d-4b19-9469-3dd779073f2e",
    "papermill": {
     "duration": 0.160668,
     "end_time": "2024-05-11T11:12:57.654549",
     "exception": false,
     "start_time": "2024-05-11T11:12:57.493881",
     "status": "completed"
    },
    "tags": []
   },
   "outputs": [
    {
     "name": "stdout",
     "output_type": "stream",
     "text": [
      "<class 'pandas.core.frame.DataFrame'>\n",
      "RangeIndex: 6435 entries, 0 to 6434\n",
      "Data columns (total 37 columns):\n",
      " #   Column  Non-Null Count  Dtype  \n",
      "---  ------  --------------  -----  \n",
      " 0   0       6435 non-null   float64\n",
      " 1   1       6435 non-null   float64\n",
      " 2   2       6435 non-null   float64\n",
      " 3   3       6435 non-null   float64\n",
      " 4   4       6435 non-null   float64\n",
      " 5   5       6435 non-null   float64\n",
      " 6   6       6435 non-null   float64\n",
      " 7   7       6435 non-null   float64\n",
      " 8   8       6435 non-null   float64\n",
      " 9   9       6435 non-null   float64\n",
      " 10  10      6435 non-null   float64\n",
      " 11  11      6435 non-null   float64\n",
      " 12  12      6435 non-null   float64\n",
      " 13  13      6435 non-null   float64\n",
      " 14  14      6435 non-null   float64\n",
      " 15  15      6435 non-null   float64\n",
      " 16  16      6435 non-null   float64\n",
      " 17  17      6435 non-null   float64\n",
      " 18  18      6435 non-null   float64\n",
      " 19  19      6435 non-null   float64\n",
      " 20  20      6435 non-null   float64\n",
      " 21  21      6435 non-null   float64\n",
      " 22  22      6435 non-null   float64\n",
      " 23  23      6435 non-null   float64\n",
      " 24  24      6435 non-null   float64\n",
      " 25  25      6435 non-null   float64\n",
      " 26  26      6435 non-null   float64\n",
      " 27  27      6435 non-null   float64\n",
      " 28  28      6435 non-null   float64\n",
      " 29  29      6435 non-null   float64\n",
      " 30  30      6435 non-null   float64\n",
      " 31  31      6435 non-null   float64\n",
      " 32  32      6435 non-null   float64\n",
      " 33  33      6435 non-null   float64\n",
      " 34  34      6435 non-null   float64\n",
      " 35  35      6435 non-null   float64\n",
      " 36  label   6435 non-null   float64\n",
      "dtypes: float64(37)\n",
      "memory usage: 1.8 MB\n",
      "None\n"
     ]
    }
   ],
   "source": [
    "try:\n",
    "    data = pd.read_csv('/kaggle/input/satimage/satimage.csv')\n",
    "    #data = data[(data['label'] == 4) | (data['label'] == 6)]\n",
    "    #data.reset_index(drop=True, inplace=True)\n",
    "    #data['label'] = data['label'].apply(lambda x: 1 if x == 6 else -1)\n",
    "\n",
    "    print(data.info())\n",
    "except FileNotFoundError:\n",
    "    print(\"File not found. Please check the file path.\")\n",
    "except Exception as e:\n",
    "    print(\"An error occurred:\", e)\n"
   ]
  },
  {
   "cell_type": "code",
   "execution_count": 5,
   "id": "047d2594",
   "metadata": {
    "execution": {
     "iopub.execute_input": "2024-05-11T11:12:57.687651Z",
     "iopub.status.busy": "2024-05-11T11:12:57.687154Z",
     "iopub.status.idle": "2024-05-11T11:12:57.696503Z",
     "shell.execute_reply": "2024-05-11T11:12:57.695227Z"
    },
    "id": "xLYxfjkJppt7",
    "outputId": "7bf1b3aa-ef83-4d15-ed02-cc9a44ac0eca",
    "papermill": {
     "duration": 0.029977,
     "end_time": "2024-05-11T11:12:57.699967",
     "exception": false,
     "start_time": "2024-05-11T11:12:57.669990",
     "status": "completed"
    },
    "tags": []
   },
   "outputs": [
    {
     "name": "stdout",
     "output_type": "stream",
     "text": [
      "Number of samples labeled as 1: 1533\n",
      "Number of samples labeled as -1: 0\n",
      "Shape of features (X): (6435, 36)\n",
      "Shape of labels (y): (6435,)\n"
     ]
    }
   ],
   "source": [
    "X = data.iloc[:, :-1]  # Features\n",
    "y = data.iloc[:, -1]   # Labels\n",
    "\n",
    "print(\"Number of samples labeled as 1:\", (y == 1).sum())\n",
    "print(\"Number of samples labeled as -1:\", (y == -1).sum())\n",
    "\n",
    "\n",
    "print(\"Shape of features (X):\", X.shape)\n",
    "print(\"Shape of labels (y):\", y.shape)"
   ]
  },
  {
   "cell_type": "markdown",
   "id": "498ded33",
   "metadata": {
    "id": "ir06cRBUppt7",
    "papermill": {
     "duration": 0.015144,
     "end_time": "2024-05-11T11:12:57.730744",
     "exception": false,
     "start_time": "2024-05-11T11:12:57.715600",
     "status": "completed"
    },
    "tags": []
   },
   "source": [
    "Now split data to train, validation and test parts. 60% of data should be used for train, 15% for validation and 25% for test. After that scale the data to Standard Normal Distribution using ```StandardScaler``` class from ```scikit-learn``` library."
   ]
  },
  {
   "cell_type": "code",
   "execution_count": 6,
   "id": "c4bdc98c",
   "metadata": {
    "execution": {
     "iopub.execute_input": "2024-05-11T11:12:57.763797Z",
     "iopub.status.busy": "2024-05-11T11:12:57.763313Z",
     "iopub.status.idle": "2024-05-11T11:12:57.807052Z",
     "shell.execute_reply": "2024-05-11T11:12:57.805836Z"
    },
    "id": "sJgXT5_Sppt7",
    "outputId": "5ed1cb1d-3061-44b9-ecc4-dbff6e6bc283",
    "papermill": {
     "duration": 0.064425,
     "end_time": "2024-05-11T11:12:57.810633",
     "exception": false,
     "start_time": "2024-05-11T11:12:57.746208",
     "status": "completed"
    },
    "tags": []
   },
   "outputs": [
    {
     "name": "stdout",
     "output_type": "stream",
     "text": [
      "Shape of X_train: (1266, 36)\n",
      "Shape of y_train: (1266,)\n",
      "Shape of X_val: (330, 36)\n",
      "Shape of y_val: (330,)\n",
      "Shape of X_test: (538, 36)\n",
      "Shape of y_test: (538,)\n"
     ]
    }
   ],
   "source": [
    "# Split the data\n",
    "X_train, X_temp, y_train, y_temp = train_test_split(X, y, test_size=0.4, random_state=42)\n",
    "X_val, X_test, y_val, y_test = train_test_split(X_temp, y_temp, test_size=0.625, random_state=42)\n",
    "\n",
    "# Scale the data\n",
    "scaler = StandardScaler()\n",
    "X_train = scaler.fit_transform(X_train)\n",
    "X_val = scaler.transform(X_val)\n",
    "X_test = scaler.transform(X_test)\n",
    "\n",
    "# Filter out specific labels\n",
    "mask_train = (y_train == 4) | (y_train == 6)\n",
    "mask_test = (y_test == 4) | (y_test == 6)\n",
    "mask_val = (y_val == 4) | (y_val == 6)\n",
    "\n",
    "X_train = X_train[mask_train]\n",
    "X_test = X_test[mask_test]\n",
    "X_val = X_val[mask_val]\n",
    "\n",
    "y_train = y_train[mask_train]\n",
    "y_test = y_test[mask_test]\n",
    "y_val = y_val[mask_val]\n",
    "\n",
    "# Convert labels to binary\n",
    "y_train.replace({4: -1, 6: 1}, inplace=True)\n",
    "y_test.replace({4: -1, 6: 1}, inplace=True)\n",
    "y_val.replace({4: -1, 6: 1}, inplace=True)\n",
    "\n",
    "# Print shapes of datasets\n",
    "datasets = {'X_train': X_train, 'y_train': y_train, 'X_val': X_val, 'y_val': y_val, 'X_test': X_test, 'y_test': y_test}\n",
    "for name, data in datasets.items():\n",
    "    print(f\"Shape of {name}: {data.shape}\")"
   ]
  },
  {
   "cell_type": "markdown",
   "id": "44f845fc",
   "metadata": {
    "id": "pFSCnpSGppt8",
    "papermill": {
     "duration": 0.015156,
     "end_time": "2024-05-11T11:12:57.841586",
     "exception": false,
     "start_time": "2024-05-11T11:12:57.826430",
     "status": "completed"
    },
    "tags": []
   },
   "source": [
    "We want to train Binary SVM model for classification between labels 4 and 6. Choose corresponding datas and convert their lables to 1 and -1 respectively for 4 and 6."
   ]
  },
  {
   "cell_type": "markdown",
   "id": "e8e937b4",
   "metadata": {
    "id": "B2JQEpc-ppt8",
    "papermill": {
     "duration": 0.014992,
     "end_time": "2024-05-11T11:12:57.872023",
     "exception": false,
     "start_time": "2024-05-11T11:12:57.857031",
     "status": "completed"
    },
    "tags": []
   },
   "source": [
    "# Model (50 points)"
   ]
  },
  {
   "cell_type": "markdown",
   "id": "c0d77ef6",
   "metadata": {
    "id": "hXLYqsXdppt8",
    "papermill": {
     "duration": 0.014921,
     "end_time": "2024-05-11T11:12:57.902396",
     "exception": false,
     "start_time": "2024-05-11T11:12:57.887475",
     "status": "completed"
    },
    "tags": []
   },
   "source": [
    "Here is soft margin svm convex optimization formulation.\n",
    "$$\n",
    "\\begin{aligned}\n",
    "\\text { Minimize } & \\frac{1}{2}\\|\\mathbf{w}\\|^2+C \\sum_{i=1}^N \\xi_i \\\\\n",
    "\\text { Subject to } & y_i\\left(\\mathbf{w}^T \\mathbf{x}_i+b\\right) \\geq 1-\\xi_i, \\quad i=1,2, \\ldots, N \\\\\n",
    "& \\xi_i \\geq 0, \\quad i=1,2, \\ldots, N\n",
    "\\end{aligned}\n",
    "$$\n",
    "write dual of the soft margin svm optimization problem below:"
   ]
  },
  {
   "cell_type": "markdown",
   "id": "d0bcde65",
   "metadata": {
    "id": "XBT1v0HPppt9",
    "papermill": {
     "duration": 0.014827,
     "end_time": "2024-05-11T11:12:57.932465",
     "exception": false,
     "start_time": "2024-05-11T11:12:57.917638",
     "status": "completed"
    },
    "tags": []
   },
   "source": [
    "\\begin{align*}\n",
    "\\text{Maximize} & \\quad \\sum_{i=1}^{N} \\alpha_i - \\frac{1}{2} \\sum_{i=1}^{N} \\sum_{j=1}^{N} \\alpha_i \\alpha_j y_i y_j \\mathbf{x}_i^T \\mathbf{x}_j \\\\\n",
    "\\text{Subject to} & \\quad 0 \\leq \\alpha_i \\leq C \\quad \\text{for } i=1,2,\\ldots,N \\\\\n",
    "& \\quad \\sum_{i=1}^{N} \\alpha_i y_i = 0\n",
    "\\end{align*}\n"
   ]
  },
  {
   "cell_type": "markdown",
   "id": "28435754",
   "metadata": {
    "id": "odhv6Akoppt9",
    "papermill": {
     "duration": 0.014975,
     "end_time": "2024-05-11T11:12:57.962863",
     "exception": false,
     "start_time": "2024-05-11T11:12:57.947888",
     "status": "completed"
    },
    "tags": []
   },
   "source": [
    "Now you should write this optimization problem in standard Quadratic Program (QP) form and use a QP solver to find optimal answer. Here is General form of a QP:\n",
    "$$\n",
    "\\begin{aligned}\n",
    "\\text { Minimize } & \\frac{1}{2} x^TPx + q^Tx + r \\\\\n",
    "\\text { Subject to } & Gx \\leq h \\\\\n",
    "& Ax = b\n",
    "\\end{aligned}\n",
    "$$\n",
    "\n",
    "Complete functions below and use ```cvxopt``` library which is a common library for solving QPs. Note that you can't use ```scikit-learn``` library.\n"
   ]
  },
  {
   "cell_type": "markdown",
   "id": "798777c3",
   "metadata": {
    "id": "Y-_CcvJBppt9",
    "papermill": {
     "duration": 0.014971,
     "end_time": "2024-05-11T11:12:57.993091",
     "exception": false,
     "start_time": "2024-05-11T11:12:57.978120",
     "status": "completed"
    },
    "tags": []
   },
   "source": [
    "For the soft margin SVM problem, the standard QP formulation can be obtained as follows:\n",
    "\n",
    "\\begin{align*}\n",
    "\\text{Minimize} & \\quad \\frac{1}{2} \\mathbf{\\alpha}^T \\mathbf{Q} \\mathbf{\\alpha} - \\mathbf{e}^T \\mathbf{\\alpha} \\\\\n",
    "\\text{Subject to} & \\quad -\\mathbf{\\alpha} \\leq \\mathbf{0} \\\\\n",
    "& \\quad \\mathbf{\\alpha} \\leq C \\\\\n",
    "& \\quad \\mathbf{y}^T \\mathbf{\\alpha} = 0 \\\\\n",
    "\\end{align*}\n",
    "\n",
    "Where:\n",
    "\n",
    "\\begin{align*}\n",
    "\\mathbf{\\alpha} & \\text{ is the vector of Lagrange multipliers.} \\\\\n",
    "\\mathbf{Q} & \\text{ is a positive definite matrix defined as } \\mathbf{Q}_{ij} = y_i y_j \\mathbf{x}_i^T \\mathbf{x}_j. \\\\\n",
    "\\mathbf{e} & \\text{ is a vector of ones.} \\\\\n",
    "\\mathbf{y} & \\text{ is the vector of labels.} \\\\\n",
    "C & \\text{ is the regularization parameter.}\n",
    "\\end{align*}\n"
   ]
  },
  {
   "cell_type": "code",
   "execution_count": 7,
   "id": "2413aeef",
   "metadata": {
    "execution": {
     "iopub.execute_input": "2024-05-11T11:12:58.027446Z",
     "iopub.status.busy": "2024-05-11T11:12:58.026997Z",
     "iopub.status.idle": "2024-05-11T11:12:58.040011Z",
     "shell.execute_reply": "2024-05-11T11:12:58.038593Z"
    },
    "id": "bz00G3qnppt9",
    "papermill": {
     "duration": 0.033526,
     "end_time": "2024-05-11T11:12:58.042908",
     "exception": false,
     "start_time": "2024-05-11T11:12:58.009382",
     "status": "completed"
    },
    "tags": []
   },
   "outputs": [],
   "source": [
    "def soft_margin_svm(X, y, C):\n",
    "    \"\"\"\n",
    "    input:\n",
    "        X: training data\n",
    "        y: training labels\n",
    "        C: errors weight\n",
    "    output:\n",
    "        support_vectors: data points which are SVs of our model.\n",
    "        support_vector_labels: labels of SVs\n",
    "        support_vector_alphas: alpha coefficient of corresponding SVs\n",
    "    \"\"\"\n",
    "    X = np.array(X)\n",
    "    y = np.array(y).reshape(-1, 1)\n",
    "\n",
    "    n_samples = X.shape[0]\n",
    "    K = np.dot(X, X.T)\n",
    "    P = matrix((np.outer(y, y) * K).astype(float))\n",
    "    q = matrix((-np.ones((n_samples, 1))).astype(float))\n",
    "    G = matrix((np.vstack((np.eye(n_samples) * (-1), np.eye(n_samples)))).astype(float))\n",
    "    h = matrix((np.hstack((np.zeros(n_samples), np.ones(n_samples) * C))).astype(float))\n",
    "    A = matrix((y.reshape(1, -1)).astype(float))\n",
    "    b = matrix(np.array([0.0]).astype(float))\n",
    "\n",
    "    solution = solvers.qp(P, q, G, h, A, b)\n",
    "    alphas = np.array(solution['x'])\n",
    "    sv = (alphas > 1e-5).flatten()\n",
    "\n",
    "    support_vectors = X[sv]\n",
    "    support_vector_labels = y[sv]\n",
    "    support_vector_alphas = alphas[sv]\n",
    "\n",
    "    return support_vectors, support_vector_labels, support_vector_alphas"
   ]
  },
  {
   "cell_type": "code",
   "execution_count": 8,
   "id": "3a39085b",
   "metadata": {
    "execution": {
     "iopub.execute_input": "2024-05-11T11:12:58.076212Z",
     "iopub.status.busy": "2024-05-11T11:12:58.075702Z",
     "iopub.status.idle": "2024-05-11T11:13:02.596078Z",
     "shell.execute_reply": "2024-05-11T11:13:02.594889Z"
    },
    "id": "QTcO5k0eppt-",
    "outputId": "b3cd70a1-8c94-40b7-8e41-9815b7beab80",
    "papermill": {
     "duration": 4.548951,
     "end_time": "2024-05-11T11:13:02.607658",
     "exception": false,
     "start_time": "2024-05-11T11:12:58.058707",
     "status": "completed"
    },
    "tags": []
   },
   "outputs": [
    {
     "name": "stdout",
     "output_type": "stream",
     "text": [
      "     pcost       dcost       gap    pres   dres\n",
      " 0: -6.1265e+02 -3.3971e+03  2e+04  3e+00  2e-13\n",
      " 1: -4.1824e+02 -2.2816e+03  3e+03  3e-01  1e-13\n",
      " 2: -3.9732e+02 -7.6474e+02  4e+02  3e-02  1e-13\n",
      " 3: -4.4111e+02 -5.8227e+02  2e+02  9e-03  1e-13\n",
      " 4: -4.6125e+02 -5.3708e+02  8e+01  4e-03  1e-13\n",
      " 5: -4.7293e+02 -5.1305e+02  4e+01  2e-03  1e-13\n",
      " 6: -4.7763e+02 -5.0407e+02  3e+01  1e-03  1e-13\n",
      " 7: -4.8272e+02 -4.9477e+02  1e+01  4e-04  1e-13\n",
      " 8: -4.8534e+02 -4.9054e+02  5e+00  2e-04  1e-13\n",
      " 9: -4.8671e+02 -4.8840e+02  2e+00  4e-05  1e-13\n",
      "10: -4.8718e+02 -4.8773e+02  6e-01  7e-06  1e-13\n",
      "11: -4.8738e+02 -4.8747e+02  9e-02  4e-07  1e-13\n",
      "12: -4.8742e+02 -4.8743e+02  7e-03  3e-08  1e-13\n",
      "13: -4.8742e+02 -4.8742e+02  2e-04  6e-10  1e-13\n",
      "Optimal solution found.\n"
     ]
    }
   ],
   "source": [
    "C = 1.0\n",
    "support_vectors, support_vector_labels, support_vector_alphas = soft_margin_svm(X_train, y_train, C)"
   ]
  },
  {
   "cell_type": "code",
   "execution_count": 9,
   "id": "53ed77c9",
   "metadata": {
    "execution": {
     "iopub.execute_input": "2024-05-11T11:13:02.692463Z",
     "iopub.status.busy": "2024-05-11T11:13:02.691505Z",
     "iopub.status.idle": "2024-05-11T11:13:02.705706Z",
     "shell.execute_reply": "2024-05-11T11:13:02.704335Z"
    },
    "id": "D6GWhUNbppt-",
    "papermill": {
     "duration": 0.061131,
     "end_time": "2024-05-11T11:13:02.708669",
     "exception": false,
     "start_time": "2024-05-11T11:13:02.647538",
     "status": "completed"
    },
    "tags": []
   },
   "outputs": [],
   "source": [
    "def predict_labels(x_test, support_vectors, support_vector_labels, support_vector_alphas):\n",
    "    \"\"\"\n",
    "    input:\n",
    "        x_test: test data\n",
    "        support_vectros: data points which are SVs of our model.\n",
    "        support_vector_labels: labels of SVs\n",
    "        support_vector_alphas: alpha coefficient of corresponding SVs\n",
    "    output:\n",
    "        y_pred: predictoin labels\n",
    "    \"\"\"\n",
    "\n",
    "    y_pred = np.zeros(len(x_test))\n",
    "    for i, x in enumerate(x_test):\n",
    "        prediction = 0\n",
    "        for alpha, sv_label, sv in zip(support_vector_alphas, support_vector_labels, support_vectors):\n",
    "            prediction += alpha * sv_label * np.dot(sv, x)\n",
    "        y_pred[i] = np.sign(prediction.item())\n",
    "    return y_pred.astype(int)"
   ]
  },
  {
   "cell_type": "code",
   "execution_count": 10,
   "id": "78cb32ec",
   "metadata": {
    "execution": {
     "iopub.execute_input": "2024-05-11T11:13:02.750592Z",
     "iopub.status.busy": "2024-05-11T11:13:02.749643Z",
     "iopub.status.idle": "2024-05-11T11:13:04.856987Z",
     "shell.execute_reply": "2024-05-11T11:13:04.855683Z"
    },
    "id": "HlMrck9Lppt-",
    "papermill": {
     "duration": 2.129547,
     "end_time": "2024-05-11T11:13:04.860209",
     "exception": false,
     "start_time": "2024-05-11T11:13:02.730662",
     "status": "completed"
    },
    "tags": []
   },
   "outputs": [],
   "source": [
    "y_pred = predict_labels(np.array(X_test), support_vectors, support_vector_labels, support_vector_alphas)"
   ]
  },
  {
   "cell_type": "markdown",
   "id": "810fad4b",
   "metadata": {
    "id": "0dwQpKS1ppt_",
    "papermill": {
     "duration": 0.016359,
     "end_time": "2024-05-11T11:13:04.893867",
     "exception": false,
     "start_time": "2024-05-11T11:13:04.877508",
     "status": "completed"
    },
    "tags": []
   },
   "source": [
    "# Evaluation (20 points)"
   ]
  },
  {
   "cell_type": "markdown",
   "id": "0bdc9745",
   "metadata": {
    "id": "OYLFGBZMppt_",
    "papermill": {
     "duration": 0.016256,
     "end_time": "2024-05-11T11:13:04.926663",
     "exception": false,
     "start_time": "2024-05-11T11:13:04.910407",
     "status": "completed"
    },
    "tags": []
   },
   "source": [
    "Compute accuracy, balanced accuracy and plot confusion matrix of your trained model using ```Seaborn.heatmap()``` function. Use case of balanced accuracy is when dealing with imbalanced data, i.e. when one of the target classes appears a lot more than the other and it is defined by average of recall of classes. Confusion matrix is a $k\\times k$ (k is number of classes) matrix which cell ij is showing that number of data points labeld i which predicted j. For more detail of evaluation metrics you can see [here](https://neptune.ai/blog/balanced-accuracy).\n",
    "\n",
    "You may use ```scikit-learn``` library to compute these metrics."
   ]
  },
  {
   "cell_type": "code",
   "execution_count": 11,
   "id": "2c5f9435",
   "metadata": {
    "execution": {
     "iopub.execute_input": "2024-05-11T11:13:04.962058Z",
     "iopub.status.busy": "2024-05-11T11:13:04.961635Z",
     "iopub.status.idle": "2024-05-11T11:13:04.977936Z",
     "shell.execute_reply": "2024-05-11T11:13:04.976305Z"
    },
    "id": "EkrKxNseppt_",
    "outputId": "c9370a3b-0e80-42ea-ca54-a97db373fbcf",
    "papermill": {
     "duration": 0.036902,
     "end_time": "2024-05-11T11:13:04.980450",
     "exception": false,
     "start_time": "2024-05-11T11:13:04.943548",
     "status": "completed"
    },
    "tags": []
   },
   "outputs": [
    {
     "name": "stdout",
     "output_type": "stream",
     "text": [
      "Accuracy:  0.8252788104089219\n",
      "Balanced Accuracy:  0.7639855133496167\n",
      "Confusion Matrix:\n",
      " [[ 96  59]\n",
      " [ 35 348]]\n"
     ]
    }
   ],
   "source": [
    "def evaluate(y_test, y_pred):\n",
    "    \"\"\"\n",
    "    input:\n",
    "        y_test: true labels\n",
    "        y_pred: predicted labels\n",
    "    output:\n",
    "        accuracy: accuracy of the model\n",
    "        balanced_accuracy: balanced accuracy of the model\n",
    "        confusion_matrix: confusion matrix of the model\n",
    "    \"\"\"\n",
    "    # TODO: Write your code here\n",
    "\n",
    "    accuracy = accuracy_score(y_test, y_pred)\n",
    "    balanced_accuracy = balanced_accuracy_score(y_test, y_pred)\n",
    "    confusion_mat = confusion_matrix(y_test, y_pred)\n",
    "\n",
    "    print(\"Accuracy: \", accuracy)\n",
    "    print(\"Balanced Accuracy: \", balanced_accuracy)\n",
    "    print(\"Confusion Matrix:\\n\", confusion_mat)\n",
    "    return accuracy, balanced_accuracy, confusion_mat\n",
    "\n",
    "\n",
    "_, _, confusion_mat = evaluate(y_test, y_pred)"
   ]
  },
  {
   "cell_type": "code",
   "execution_count": 12,
   "id": "0de29074",
   "metadata": {
    "execution": {
     "iopub.execute_input": "2024-05-11T11:13:05.016508Z",
     "iopub.status.busy": "2024-05-11T11:13:05.015505Z",
     "iopub.status.idle": "2024-05-11T11:13:05.348303Z",
     "shell.execute_reply": "2024-05-11T11:13:05.347144Z"
    },
    "id": "HTe7ifdyppt_",
    "outputId": "cdfc3680-5f3a-402f-9ede-8787dd52824a",
    "papermill": {
     "duration": 0.353656,
     "end_time": "2024-05-11T11:13:05.350966",
     "exception": false,
     "start_time": "2024-05-11T11:13:04.997310",
     "status": "completed"
    },
    "tags": []
   },
   "outputs": [
    {
     "data": {
      "text/plain": [
       "<Axes: >"
      ]
     },
     "execution_count": 12,
     "metadata": {},
     "output_type": "execute_result"
    },
    {
     "data": {
      "image/png": "[encoded data removed]",
      "text/plain": [
       "<Figure size 640x480 with 2 Axes>"
      ]
     },
     "metadata": {},
     "output_type": "display_data"
    }
   ],
   "source": [
    "cm_matrix = pd.DataFrame(data=confusion_mat, columns=['Predict Negative:-1', 'Predict Positive:1'],\n",
    "                                 index=['Actual Negative:-1', 'Actual Positive:1'])\n",
    "\n",
    "sns.heatmap(cm_matrix, annot=True, fmt='d', cmap='mako')"
   ]
  },
  {
   "cell_type": "markdown",
   "id": "2eb0d79e",
   "metadata": {
    "id": "zCa3aLXTppuA",
    "papermill": {
     "duration": 0.017219,
     "end_time": "2024-05-11T11:13:05.385845",
     "exception": false,
     "start_time": "2024-05-11T11:13:05.368626",
     "status": "completed"
    },
    "tags": []
   },
   "source": [
    "# Fine-tunning (40 points)"
   ]
  },
  {
   "cell_type": "markdown",
   "id": "b6e320e3",
   "metadata": {
    "id": "0CzH9p83ppuA",
    "papermill": {
     "duration": 0.077498,
     "end_time": "2024-05-11T11:13:05.480930",
     "exception": false,
     "start_time": "2024-05-11T11:13:05.403432",
     "status": "completed"
    },
    "tags": []
   },
   "source": [
    "like what you did before, implement Soft Margin SVM but now use rbf kernel. To determine rbf $\\gamma$ parameter use validation datas and find best(best by balanced accuracy) $\\gamma$ between 0.001 , 0.01, 1, 10, 100. Not that you can't use ```scikit-learn``` library here."
   ]
  },
  {
   "cell_type": "code",
   "execution_count": 13,
   "id": "6eacd64b",
   "metadata": {
    "execution": {
     "iopub.execute_input": "2024-05-11T11:13:05.519114Z",
     "iopub.status.busy": "2024-05-11T11:13:05.517687Z",
     "iopub.status.idle": "2024-05-11T11:13:05.531783Z",
     "shell.execute_reply": "2024-05-11T11:13:05.530913Z"
    },
    "id": "a0MpzI7sppuA",
    "papermill": {
     "duration": 0.035875,
     "end_time": "2024-05-11T11:13:05.534400",
     "exception": false,
     "start_time": "2024-05-11T11:13:05.498525",
     "status": "completed"
    },
    "tags": []
   },
   "outputs": [],
   "source": [
    "def rbf(x1, x2, gamma=1):\n",
    "    \"\"\"\n",
    "    input:\n",
    "        x1: first vector\n",
    "        x2: second vector\n",
    "        gamma: rbf kernel parameter with defalt value 1.\n",
    "    output:\n",
    "        ouput: computed rbf of two input vectors\n",
    "    \"\"\"\n",
    "    # TODO: Write your code here\n",
    "    distance = np.linalg.norm(x1 - x2) ** 2\n",
    "    output = np.exp(-gamma * distance)\n",
    "    return output\n",
    "\n",
    "def soft_margin_svm(X, y, C, gamma=1):\n",
    "    \"\"\"\n",
    "    input:\n",
    "        X: training data\n",
    "        y: training labels\n",
    "        C: errors weight\n",
    "        gamma: rbf kernel parameter with defalt value 1.\n",
    "    output:\n",
    "        support_vectros: data points which are SVs of our model.\n",
    "        support_vector_labels: labels of SVs\n",
    "        support_vector_alphas: alpha coefficient of corresponding SVs\n",
    "    \"\"\"\n",
    "\n",
    "    n_samples, n_features = X.shape\n",
    "\n",
    "    # Compute the Gram matrix using the RBF kernel\n",
    "    K = np.zeros((n_samples, n_samples))\n",
    "    for i in range(n_samples):\n",
    "        for j in range(n_samples):\n",
    "            K[i, j] = rbf(X[i], X[j], gamma)\n",
    "\n",
    "    # Construct matrices for QP solver\n",
    "    P = matrix((np.outer(y, y) * K).astype(float))\n",
    "    q = matrix(-np.ones((n_samples, 1)).astype(float))\n",
    "    G = matrix(np.vstack((-np.eye(n_samples), np.eye(n_samples))).astype(float))\n",
    "    h = matrix(np.hstack((np.zeros(n_samples), np.ones(n_samples) * C)).astype(float))\n",
    "    A = matrix(y.reshape(1, -1).astype(float))\n",
    "    b = matrix(np.array([0.0]).astype(float))\n",
    "\n",
    "    # Solve QP problem\n",
    "    sol = solvers.qp(P, q, G, h, A, b)\n",
    "    alphas = np.array(sol['x']).flatten()\n",
    "\n",
    "    # Extract support vectors\n",
    "    sv_indices = alphas > 1e-5\n",
    "    support_vectors = X[sv_indices]\n",
    "    support_vector_labels = y[sv_indices]\n",
    "    support_vector_alphas = alphas[sv_indices]\n",
    "\n",
    "    return support_vectors, support_vector_labels, support_vector_alphas"
   ]
  },
  {
   "cell_type": "code",
   "execution_count": 14,
   "id": "6dc0a60e",
   "metadata": {
    "execution": {
     "iopub.execute_input": "2024-05-11T11:13:05.572927Z",
     "iopub.status.busy": "2024-05-11T11:13:05.571970Z",
     "iopub.status.idle": "2024-05-11T11:14:47.886193Z",
     "shell.execute_reply": "2024-05-11T11:14:47.884180Z"
    },
    "id": "qqlKF1buppuA",
    "outputId": "b05015ea-a75f-49e1-eeb9-833b1cdcb892",
    "papermill": {
     "duration": 102.336634,
     "end_time": "2024-05-11T11:14:47.889354",
     "exception": false,
     "start_time": "2024-05-11T11:13:05.552720",
     "status": "completed"
    },
    "tags": []
   },
   "outputs": [
    {
     "name": "stdout",
     "output_type": "stream",
     "text": [
      "     pcost       dcost       gap    pres   dres\n",
      " 0: -5.7870e+02 -3.1897e+03  2e+04  3e+00  2e-14\n",
      " 1: -4.0863e+02 -2.0634e+03  2e+03  2e-01  1e-14\n",
      " 2: -4.2109e+02 -6.8997e+02  3e+02  2e-02  1e-14\n",
      " 3: -4.6476e+02 -5.9584e+02  1e+02  8e-03  1e-14\n",
      " 4: -4.8769e+02 -5.5091e+02  7e+01  3e-03  1e-14\n",
      " 5: -4.9596e+02 -5.3660e+02  4e+01  2e-03  1e-14\n",
      " 6: -5.0371e+02 -5.2370e+02  2e+01  8e-04  1e-14\n",
      " 7: -5.0860e+02 -5.1604e+02  8e+00  2e-04  1e-14\n",
      " 8: -5.1083e+02 -5.1270e+02  2e+00  4e-05  2e-14\n",
      " 9: -5.1160e+02 -5.1168e+02  8e-02  4e-07  2e-14\n",
      "10: -5.1164e+02 -5.1164e+02  6e-03  1e-08  2e-14\n",
      "11: -5.1164e+02 -5.1164e+02  3e-04  6e-10  2e-14\n",
      "Optimal solution found.\n",
      "Gamma: 0.01 Accuracy: 0.620575221238938\n",
      "     pcost       dcost       gap    pres   dres\n",
      " 0: -3.5478e+02 -2.9645e+03  1e+04  3e+00  5e-15\n",
      " 1: -2.5774e+02 -1.8143e+03  2e+03  1e-01  4e-15\n",
      " 2: -2.7515e+02 -5.5668e+02  3e+02  2e-02  4e-15\n",
      " 3: -3.1035e+02 -4.0746e+02  1e+02  5e-03  4e-15\n",
      " 4: -3.2161e+02 -3.7676e+02  6e+01  2e-03  4e-15\n",
      " 5: -3.3186e+02 -3.4879e+02  2e+01  3e-04  5e-15\n",
      " 6: -3.3455e+02 -3.4305e+02  9e+00  1e-04  4e-15\n",
      " 7: -3.3586e+02 -3.4016e+02  4e+00  8e-15  5e-15\n",
      " 8: -3.3717e+02 -3.3810e+02  9e-01  2e-15  5e-15\n",
      " 9: -3.3735e+02 -3.3781e+02  5e-01  2e-15  5e-15\n",
      "10: -3.3755e+02 -3.3756e+02  2e-02  4e-15  5e-15\n",
      "11: -3.3755e+02 -3.3755e+02  5e-04  2e-16  5e-15\n",
      "12: -3.3755e+02 -3.3755e+02  8e-06  4e-15  5e-15\n",
      "Optimal solution found.\n",
      "Gamma: 0.1 Accuracy: 0.6357641252552757\n",
      "     pcost       dcost       gap    pres   dres\n",
      " 0: -2.4269e+02 -2.1635e+03  7e+03  2e+00  1e-15\n",
      " 1: -2.2042e+02 -1.1878e+03  1e+03  1e-01  5e-16\n",
      " 2: -2.4012e+02 -3.8481e+02  2e+02  1e-02  7e-16\n",
      " 3: -2.5620e+02 -2.8744e+02  3e+01  2e-03  4e-16\n",
      " 4: -2.6083e+02 -2.6656e+02  6e+00  2e-04  3e-16\n",
      " 5: -2.6182e+02 -2.6335e+02  2e+00  4e-05  3e-16\n",
      " 6: -2.6212e+02 -2.6241e+02  3e-01  4e-06  3e-16\n",
      " 7: -2.6218e+02 -2.6221e+02  3e-02  3e-07  3e-16\n",
      " 8: -2.6219e+02 -2.6219e+02  1e-03  9e-09  3e-16\n",
      " 9: -2.6219e+02 -2.6219e+02  3e-05  2e-10  3e-16\n",
      "Optimal solution found.\n",
      "Gamma: 1 Accuracy: 0.6813308373042886\n",
      "     pcost       dcost       gap    pres   dres\n",
      " 0: -4.6315e+02 -2.1251e+03  2e+03  1e-13  6e-16\n",
      " 1: -4.6963e+02 -5.0646e+02  4e+01  4e-14  3e-16\n",
      " 2: -4.7538e+02 -4.7581e+02  4e-01  1e-14  1e-16\n",
      " 3: -4.7545e+02 -4.7546e+02  4e-03  4e-15  1e-16\n",
      " 4: -4.7546e+02 -4.7546e+02  4e-05  1e-14  1e-16\n",
      "Optimal solution found.\n",
      "Gamma: 10 Accuracy: 0.6987321307011573\n",
      "     pcost       dcost       gap    pres   dres\n",
      " 0: -4.6331e+02 -2.1253e+03  2e+03  9e-13  3e-16\n",
      " 1: -4.6978e+02 -5.0577e+02  4e+01  6e-14  4e-16\n",
      " 2: -4.7552e+02 -4.7591e+02  4e-01  1e-14  8e-17\n",
      " 3: -4.7559e+02 -4.7559e+02  4e-03  7e-15  5e-17\n",
      " 4: -4.7559e+02 -4.7559e+02  4e-05  4e-14  2e-17\n",
      "Optimal solution found.\n",
      "Gamma: 100 Accuracy: 0.6987321307011573\n",
      "Best gamma: 10\n"
     ]
    }
   ],
   "source": [
    "from sklearn.metrics import balanced_accuracy_score\n",
    "\n",
    "gammas = [0.01, 0.1, 1, 10, 100]\n",
    "best_accuracy = 0\n",
    "best_gamma = None\n",
    "best_support_vectors = None\n",
    "best_support_vector_labels = None\n",
    "best_support_vector_alphas = None\n",
    "\n",
    "for gamma in gammas:\n",
    "    support_vectors, support_vector_labels, support_vector_alphas = soft_margin_svm(X_train, y_train.values, C, gamma)\n",
    "    y_pred = predict_labels(X_val, support_vectors, support_vector_labels, support_vector_alphas)\n",
    "    accuracy = balanced_accuracy_score(y_val, y_pred)\n",
    "    print(\"Gamma:\", gamma, \"Accuracy:\", accuracy)\n",
    "    if accuracy > best_accuracy:\n",
    "        best_accuracy = accuracy\n",
    "        best_gamma = gamma\n",
    "        best_support_vectors = support_vectors\n",
    "        best_support_vector_labels = support_vector_labels\n",
    "        best_support_vector_alphas = support_vector_alphas\n",
    "\n",
    "print(\"Best gamma:\", best_gamma)\n"
   ]
  },
  {
   "cell_type": "code",
   "execution_count": 15,
   "id": "a33287e5",
   "metadata": {
    "execution": {
     "iopub.execute_input": "2024-05-11T11:14:47.937652Z",
     "iopub.status.busy": "2024-05-11T11:14:47.937236Z",
     "iopub.status.idle": "2024-05-11T11:14:49.775172Z",
     "shell.execute_reply": "2024-05-11T11:14:49.773309Z"
    },
    "id": "1jLcO2rCppuB",
    "outputId": "ba32d388-0f46-4628-e913-b2c46c4c8da8",
    "papermill": {
     "duration": 1.86646,
     "end_time": "2024-05-11T11:14:49.778928",
     "exception": false,
     "start_time": "2024-05-11T11:14:47.912468",
     "status": "completed"
    },
    "tags": []
   },
   "outputs": [
    {
     "name": "stdout",
     "output_type": "stream",
     "text": [
      "Accuracy:  0.8085501858736059\n",
      "Balanced Accuracy:  0.7426345489766697\n",
      "Confusion Matrix:\n",
      " [[ 91  64]\n",
      " [ 39 344]]\n"
     ]
    }
   ],
   "source": [
    "y_pred = predict_labels(np.array(X_test), best_support_vectors, best_support_vector_labels, best_support_vector_alphas)\n",
    "_, _, confusion_mat = evaluate(y_test, y_pred)"
   ]
  },
  {
   "cell_type": "markdown",
   "id": "140910d0",
   "metadata": {
    "id": "FqFp5j-zppuB",
    "papermill": {
     "duration": 0.022653,
     "end_time": "2024-05-11T11:14:49.825586",
     "exception": false,
     "start_time": "2024-05-11T11:14:49.802933",
     "status": "completed"
    },
    "tags": []
   },
   "source": [
    "# Multiclass SVM (30 points + 50 points optional)"
   ]
  },
  {
   "cell_type": "markdown",
   "id": "943bfe9f",
   "metadata": {
    "id": "tsx6-SL9ppuB",
    "papermill": {
     "duration": 0.023517,
     "end_time": "2024-05-11T11:14:49.872128",
     "exception": false,
     "start_time": "2024-05-11T11:14:49.848611",
     "status": "completed"
    },
    "tags": []
   },
   "source": [
    "Now we want implement Multiclass SVM. Use ```SVC``` function with rbf kernel from ```scikit-learn``` package on all train datas (all six classes) and choose best hyperparameters for $C$ and $\\gamma$ between 0.01, 0.1, 1, 10, 100. After that evaluate it with your function.\n",
    "\n",
    "Note that in this example we had enough data to split them in train and validation but in case that we don't have enough data, ```scikit-learn``` has a built-in fast library named ```GridSearchCV()``` which can help us in hyperparameter tunning with cross validation."
   ]
  },
  {
   "cell_type": "code",
   "execution_count": 16,
   "id": "9272e5a7",
   "metadata": {
    "execution": {
     "iopub.execute_input": "2024-05-11T11:14:49.919926Z",
     "iopub.status.busy": "2024-05-11T11:14:49.919524Z",
     "iopub.status.idle": "2024-05-11T11:18:41.925139Z",
     "shell.execute_reply": "2024-05-11T11:18:41.923720Z"
    },
    "id": "roeq4TvsppuC",
    "papermill": {
     "duration": 232.032978,
     "end_time": "2024-05-11T11:18:41.928056",
     "exception": false,
     "start_time": "2024-05-11T11:14:49.895078",
     "status": "completed"
    },
    "tags": []
   },
   "outputs": [
    {
     "name": "stdout",
     "output_type": "stream",
     "text": [
      "Accuracy: 0.9028749028749029\n"
     ]
    },
    {
     "data": {
      "image/png": "[encoded data removed]",
      "text/plain": [
       "<Figure size 1000x800 with 2 Axes>"
      ]
     },
     "metadata": {},
     "output_type": "display_data"
    }
   ],
   "source": [
    "import pandas as pd\n",
    "from sklearn.model_selection import train_test_split\n",
    "from sklearn.svm import SVC\n",
    "from sklearn.metrics import accuracy_score, confusion_matrix\n",
    "from sklearn.model_selection import GridSearchCV\n",
    "import seaborn as sns\n",
    "import matplotlib.pyplot as plt\n",
    "\n",
    "data = pd.read_csv('/kaggle/input/satimage/satimage.csv')\n",
    "\n",
    "X = data.drop(columns=['label']).values\n",
    "y = data['label'].values\n",
    "\n",
    "X_train, X_test, y_train, y_test = train_test_split(X, y, test_size=0.2, random_state=42)\n",
    "\n",
    "param_grid = {'C': [0.01, 0.1, 1, 10, 100], 'gamma': [0.01, 0.1, 1, 10, 100]}\n",
    "\n",
    "svc = SVC(kernel='rbf')\n",
    "\n",
    "grid_search = GridSearchCV(estimator=svc, param_grid=param_grid, cv=5)\n",
    "grid_search.fit(X_train, y_train)\n",
    "\n",
    "best_C = grid_search.best_params_['C']\n",
    "best_gamma = grid_search.best_params_['gamma']\n",
    "\n",
    "best_svc = SVC(kernel='rbf', C=best_C, gamma=best_gamma)\n",
    "best_svc.fit(X_train, y_train)\n",
    "\n",
    "y_pred = best_svc.predict(X_test)\n",
    "\n",
    "accuracy = accuracy_score(y_test, y_pred)\n",
    "print(\"Accuracy:\", accuracy)\n",
    "\n",
    "confusion_mat = confusion_matrix(y_test, y_pred)\n",
    "\n",
    "num_classes = 6\n",
    "cm_matrix = pd.DataFrame(data=confusion_mat, columns=['Predicted ' + str(i) for i in range(num_classes)],\n",
    "                         index=['Correct Class ' + str(i) for i in range(num_classes)])\n",
    "plt.figure(figsize=(10, 8))\n",
    "sns.heatmap(cm_matrix, annot=True, fmt='d', cmap='mako')\n",
    "plt.title(\"Confusion Matrix\")\n",
    "plt.xlabel(\"Predicted Label\")\n",
    "plt.ylabel(\"True Label\")\n",
    "plt.show()\n"
   ]
  },
  {
   "cell_type": "markdown",
   "id": "675e8da7",
   "metadata": {
    "id": "6WK06pNVppuC",
    "papermill": {
     "duration": 0.022845,
     "end_time": "2024-05-11T11:18:41.974346",
     "exception": false,
     "start_time": "2024-05-11T11:18:41.951501",
     "status": "completed"
    },
    "tags": []
   },
   "source": [
    "Implement Multiclass SVM from scratch without using ready functions (optional)."
   ]
  },
  {
   "cell_type": "code",
   "execution_count": 17,
   "id": "239ac980",
   "metadata": {
    "execution": {
     "iopub.execute_input": "2024-05-11T11:18:42.024073Z",
     "iopub.status.busy": "2024-05-11T11:18:42.022878Z",
     "iopub.status.idle": "2024-05-11T12:01:59.754181Z",
     "shell.execute_reply": "2024-05-11T12:01:59.752297Z"
    },
    "id": "zGURa_IYppuC",
    "papermill": {
     "duration": 2597.759827,
     "end_time": "2024-05-11T12:01:59.757429",
     "exception": false,
     "start_time": "2024-05-11T11:18:41.997602",
     "status": "completed"
    },
    "tags": []
   },
   "outputs": [
    {
     "name": "stdout",
     "output_type": "stream",
     "text": [
      "     pcost       dcost       gap    pres   dres\n",
      " 0: -6.2955e-13 -5.1480e+03  2e+04  1e+00  1e-15\n",
      " 1:  2.4718e-13 -1.3356e+03  1e+03  1e-02  6e-16\n",
      " 2:  1.5526e-15 -1.3486e+01  1e+01  1e-04  4e-16\n",
      " 3:  1.5352e-17 -1.3486e-01  1e-01  1e-06  5e-16\n",
      " 4:  1.5352e-19 -1.3486e-03  1e-03  1e-08  4e-16\n",
      " 5:  1.5352e-21 -1.3486e-05  1e-05  1e-10  4e-16\n",
      " 6:  1.5352e-23 -1.3486e-07  1e-07  1e-12  3e-16\n",
      " 7:  1.5352e-25 -1.3486e-09  1e-09  1e-14  4e-16\n",
      "Optimal solution found.\n",
      "     pcost       dcost       gap    pres   dres\n",
      " 0: -1.6004e+03 -8.4882e+03  2e+04  1e+00  1e-15\n",
      " 1: -1.5188e+03 -4.5114e+03  3e+03  8e-14  4e-16\n",
      " 2: -1.5711e+03 -1.7070e+03  1e+02  3e-13  6e-16\n",
      " 3: -1.6036e+03 -1.6080e+03  4e+00  3e-14  2e-16\n",
      " 4: -1.6048e+03 -1.6051e+03  2e-01  6e-15  2e-16\n",
      " 5: -1.6049e+03 -1.6049e+03  1e-02  4e-14  2e-16\n",
      " 6: -1.6049e+03 -1.6049e+03  3e-04  6e-14  2e-16\n",
      "Optimal solution found.\n",
      "     pcost       dcost       gap    pres   dres\n",
      " 0: -8.5291e+02 -7.8521e+03  3e+04  2e+00  1e-15\n",
      " 1: -7.7748e+02 -3.7033e+03  3e+03  5e-03  6e-16\n",
      " 2: -7.7905e+02 -8.3171e+02  5e+01  9e-05  9e-16\n",
      " 3: -7.8185e+02 -7.8311e+02  1e+00  2e-06  1e-16\n",
      " 4: -7.8193e+02 -7.8198e+02  6e-02  7e-08  1e-16\n",
      " 5: -7.8193e+02 -7.8193e+02  2e-03  3e-09  1e-16\n",
      " 6: -7.8193e+02 -7.8193e+02  1e-04  8e-11  1e-16\n",
      "Optimal solution found.\n",
      "     pcost       dcost       gap    pres   dres\n",
      " 0: -1.4211e+03 -8.5876e+03  3e+04  2e+00  1e-15\n",
      " 1: -1.3405e+03 -4.5311e+03  3e+03  3e-13  4e-16\n",
      " 2: -1.3713e+03 -1.8157e+03  4e+02  2e-13  6e-16\n",
      " 3: -1.3986e+03 -1.4235e+03  2e+01  5e-15  3e-16\n",
      " 4: -1.4017e+03 -1.4027e+03  1e+00  6e-15  2e-16\n",
      " 5: -1.4018e+03 -1.4019e+03  2e-02  2e-14  2e-16\n",
      " 6: -1.4018e+03 -1.4018e+03  8e-04  4e-14  2e-16\n",
      "Optimal solution found.\n",
      "     pcost       dcost       gap    pres   dres\n",
      " 0: -7.9754e+02 -8.0178e+03  3e+04  2e+00  1e-15\n",
      " 1: -7.2689e+02 -3.8262e+03  3e+03  2e-02  7e-16\n",
      " 2: -7.2522e+02 -1.1745e+03  5e+02  3e-03  7e-16\n",
      " 3: -7.2641e+02 -7.8501e+02  6e+01  2e-13  2e-16\n",
      " 4: -7.2870e+02 -7.3179e+02  3e+00  1e-13  2e-16\n",
      " 5: -7.2884e+02 -7.2895e+02  1e-01  8e-14  2e-16\n",
      " 6: -7.2884e+02 -7.2885e+02  3e-03  5e-15  2e-16\n",
      " 7: -7.2884e+02 -7.2884e+02  9e-05  7e-14  2e-16\n",
      "Optimal solution found.\n",
      "     pcost       dcost       gap    pres   dres\n",
      " 0: -8.7970e+02 -7.8804e+03  3e+04  2e+00  1e-15\n",
      " 1: -8.0046e+02 -3.7302e+03  3e+03  3e-03  5e-16\n",
      " 2: -8.0276e+02 -8.9849e+02  1e+02  9e-05  9e-16\n",
      " 3: -8.0553e+02 -8.0787e+02  2e+00  1e-06  1e-16\n",
      " 4: -8.0563e+02 -8.0573e+02  1e-01  5e-08  1e-16\n",
      " 5: -8.0563e+02 -8.0564e+02  4e-03  2e-09  1e-16\n",
      " 6: -8.0564e+02 -8.0564e+02  2e-04  7e-11  1e-16\n",
      "Optimal solution found.\n",
      "Accuracy: 0.6961926961926962\n"
     ]
    },
    {
     "data": {
      "image/png": "[encoded data removed]",
      "text/plain": [
       "<Figure size 1000x800 with 2 Axes>"
      ]
     },
     "metadata": {},
     "output_type": "display_data"
    }
   ],
   "source": [
    "import numpy as np\n",
    "import pandas as pd\n",
    "import seaborn as sns\n",
    "import matplotlib.pyplot as plt\n",
    "from sklearn.metrics import accuracy_score, confusion_matrix\n",
    "\n",
    "\n",
    "def rbf(x1, x2, gamma=1):\n",
    "    \"\"\"\n",
    "    input:\n",
    "        x1: first vector\n",
    "        x2: second vector\n",
    "        gamma: rbf kernel parameter with defalt value 1.\n",
    "    output:\n",
    "        ouput: computed rbf of two input vectors\n",
    "    \"\"\"\n",
    "    # TODO: Write your code here\n",
    "    distance = np.linalg.norm(x1 - x2) ** 2\n",
    "    output = np.exp(-gamma * distance)\n",
    "    return output\n",
    "\n",
    "def soft_margin_svm(X, y, C, gamma=1):\n",
    "    \"\"\"\n",
    "    input:\n",
    "        X: training data\n",
    "        y: training labels\n",
    "        C: errors weight\n",
    "        gamma: rbf kernel parameter with defalt value 1.\n",
    "    output:\n",
    "        support_vectros: data points which are SVs of our model.\n",
    "        support_vector_labels: labels of SVs\n",
    "        support_vector_alphas: alpha coefficient of corresponding SVs\n",
    "    \"\"\"\n",
    "\n",
    "    n_samples, n_features = X.shape\n",
    "\n",
    "    # Compute the Gram matrix using the RBF kernel\n",
    "    K = np.zeros((n_samples, n_samples))\n",
    "    for i in range(n_samples):\n",
    "        for j in range(n_samples):\n",
    "            K[i, j] = rbf(X[i], X[j], gamma)\n",
    "\n",
    "    # Construct matrices for QP solver\n",
    "    P = matrix((np.outer(y, y) * K).astype(float))\n",
    "    q = matrix(-np.ones((n_samples, 1)).astype(float))\n",
    "    G = matrix(np.vstack((-np.eye(n_samples), np.eye(n_samples))).astype(float))\n",
    "    h = matrix(np.hstack((np.zeros(n_samples), np.ones(n_samples) * C)).astype(float))\n",
    "    A = matrix(y.reshape(1, -1).astype(float))\n",
    "    b = matrix(np.array([0.0]).astype(float))\n",
    "\n",
    "    # Solve QP problem\n",
    "    sol = solvers.qp(P, q, G, h, A, b)\n",
    "    alphas = np.array(sol['x']).flatten()\n",
    "\n",
    "    # Extract support vectors\n",
    "    sv_indices = alphas > 1e-5\n",
    "    support_vectors = X[sv_indices]\n",
    "    support_vector_labels = y[sv_indices]\n",
    "    support_vector_alphas = alphas[sv_indices]\n",
    "\n",
    "    return support_vectors, support_vector_labels, support_vector_alphas\n",
    "\n",
    "\n",
    "\n",
    "def predict_multi_class(x_test, classifiers, best_gamma):\n",
    "    num_classes = len(classifiers)\n",
    "    num_samples = len(x_test)\n",
    "    predictions = np.zeros((num_samples, num_classes))\n",
    "\n",
    "    for i, (support_vectors, support_vector_labels, support_vector_alphas) in enumerate(classifiers):\n",
    "        for j in range(num_samples):\n",
    "            prediction = 0\n",
    "            for alpha, labell, sv in zip(support_vector_alphas, support_vector_labels, support_vectors):\n",
    "                prediction += alpha * labell * rbf(x_test[j], sv, best_gamma)\n",
    "            predictions[j, i] = prediction\n",
    "\n",
    "    y_pred = np.argmax(predictions, axis=1)\n",
    "    return y_pred\n",
    "\n",
    "def evaluate(y_true, y_pred):\n",
    "    confusion_mat = confusion_matrix(y_true, y_pred)\n",
    "    accuracy = accuracy_score(y_true, y_pred)\n",
    "    return accuracy, confusion_mat\n",
    "\n",
    "best_C = 1.0\n",
    "best_gamma = 1.0\n",
    "num_classes = 6\n",
    "\n",
    "classifiers = []\n",
    "for class_label in range(num_classes):\n",
    "    binary_labels = np.where(y_train == class_label, 1, -1)\n",
    "    support_vectors, support_vector_labels, support_vector_alphas = soft_margin_svm(X_train, binary_labels, best_C, best_gamma)\n",
    "    classifiers.append((support_vectors, support_vector_labels, support_vector_alphas))\n",
    "\n",
    "y_pred = predict_multi_class(X_test, classifiers, best_gamma)\n",
    "\n",
    "accuracy, confusion_mat = evaluate(y_test, y_pred)\n",
    "print(\"Accuracy:\", accuracy)\n",
    "\n",
    "cm_matrix = pd.DataFrame(data=confusion_mat)\n",
    "plt.figure(figsize=(10, 8))\n",
    "sns.heatmap(cm_matrix, annot=True, fmt='d', cmap='mako')\n",
    "plt.title(\"Confusion Matrix\")\n",
    "plt.xlabel(\"Predicted Label\")\n",
    "plt.ylabel(\"True Label\")\n",
    "plt.show()\n"
   ]
  },
  {
   "cell_type": "markdown",
   "id": "e9042d66",
   "metadata": {
    "id": "asz2Vkv6ppuC",
    "papermill": {
     "duration": 0.028494,
     "end_time": "2024-05-11T12:01:59.816178",
     "exception": false,
     "start_time": "2024-05-11T12:01:59.787684",
     "status": "completed"
    },
    "tags": []
   },
   "source": [
    "# Different SVM Kernels (40 points)"
   ]
  },
  {
   "cell_type": "markdown",
   "id": "5b82d1cf",
   "metadata": {
    "id": "NRYtTSlHppuD",
    "papermill": {
     "duration": 0.027913,
     "end_time": "2024-05-11T12:01:59.872641",
     "exception": false,
     "start_time": "2024-05-11T12:01:59.844728",
     "status": "completed"
    },
    "tags": []
   },
   "source": [
    "A kernel in SVM is like a tool that helps solve tricky problems. It lets us work in a space with many dimensions, making complex calculations easier. With kernels, we can deal with lots of dimensions, even an endless amount. Kernels are crucial for sorting data into groups and help spot patterns in the data we're looking at. They're especially good at tackling twisty problems with a straightforward approach.\n",
    "\n",
    "Sometimes, finding a straight line or flat surface to divide data isn't possible, especially as we explore more dimensions. That's where different types of SVM kernels come in handy. They transform twisty, complicated data into a simpler form that's easier to separate. In this explanation, we talk about 4 popular types of these kernels. Also in following cells you can use any package.\n",
    "\n",
    "<img src=\"./kernel.jpg\" alt=\"Types of Kernel Functions\"  align=center class=\"saturate\">"
   ]
  },
  {
   "cell_type": "markdown",
   "id": "8e514191",
   "metadata": {
    "id": "ynJdyhITppuD",
    "papermill": {
     "duration": 0.02806,
     "end_time": "2024-05-11T12:01:59.929949",
     "exception": false,
     "start_time": "2024-05-11T12:01:59.901889",
     "status": "completed"
    },
    "tags": []
   },
   "source": [
    "### Linear Kernel"
   ]
  },
  {
   "cell_type": "markdown",
   "id": "202e6642",
   "metadata": {
    "id": "X-jlbdCRppuE",
    "papermill": {
     "duration": 0.028607,
     "end_time": "2024-05-11T12:01:59.987801",
     "exception": false,
     "start_time": "2024-05-11T12:01:59.959194",
     "status": "completed"
    },
    "tags": []
   },
   "source": [
    "This is the simplest kind of kernel, typically working in one dimension. It works best when dealing with a lot of features. Linear kernels are quicker than other types.\n",
    "\n",
    "**Formula:**\n",
    "\n",
    "$$F(x, x_j) = sum(x, x_j)$$\n",
    "\n",
    "Now Implement svc classifier using a linear kernel. Get the prediction and evaluate it by function which you implemented before. Also plot confusion matrix by `Seaborn`."
   ]
  },
  {
   "cell_type": "code",
   "execution_count": 18,
   "id": "3dc4112c",
   "metadata": {
    "execution": {
     "iopub.execute_input": "2024-05-11T12:02:00.050014Z",
     "iopub.status.busy": "2024-05-11T12:02:00.049514Z",
     "iopub.status.idle": "2024-05-11T12:02:01.489973Z",
     "shell.execute_reply": "2024-05-11T12:02:01.488184Z"
    },
    "id": "eRfzeXV-ppuE",
    "papermill": {
     "duration": 1.474993,
     "end_time": "2024-05-11T12:02:01.493402",
     "exception": false,
     "start_time": "2024-05-11T12:02:00.018409",
     "status": "completed"
    },
    "tags": []
   },
   "outputs": [
    {
     "name": "stdout",
     "output_type": "stream",
     "text": [
      "Accuracy: 0.8764568764568764\n"
     ]
    },
    {
     "data": {
      "image/png": "[encoded data removed]",
      "text/plain": [
       "<Figure size 1000x800 with 2 Axes>"
      ]
     },
     "metadata": {},
     "output_type": "display_data"
    }
   ],
   "source": [
    "import numpy as np\n",
    "import pandas as pd\n",
    "import seaborn as sns\n",
    "import matplotlib.pyplot as plt\n",
    "from sklearn.svm import SVC\n",
    "from sklearn.metrics import accuracy_score, confusion_matrix\n",
    "from sklearn.model_selection import train_test_split\n",
    "\n",
    "y_train = np.ravel(y_train)\n",
    "y_test = np.ravel(y_test)\n",
    "\n",
    "\n",
    "svm_linear = SVC(kernel='linear')\n",
    "svm_linear.fit(X_train, y_train)\n",
    "\n",
    "\n",
    "y_pred = svm_linear.predict(X_test)\n",
    "\n",
    "# Evaluate the model\n",
    "accuracy, confusion_mat = evaluate(y_test, y_pred)\n",
    "print(\"Accuracy:\", accuracy)\n",
    "\n",
    "# Plot confusion matrix\n",
    "cm_matrix = pd.DataFrame(data=confusion_mat)\n",
    "plt.figure(figsize=(10, 8))\n",
    "sns.heatmap(cm_matrix, annot=True, fmt='d', cmap='mako')\n",
    "plt.title(\"Confusion Matrix\")\n",
    "plt.xlabel(\"Predicted Label\")\n",
    "plt.ylabel(\"True Label\")\n",
    "plt.show()\n"
   ]
  },
  {
   "cell_type": "markdown",
   "id": "8a2de902",
   "metadata": {
    "id": "aveH2OORppuF",
    "papermill": {
     "duration": 0.031153,
     "end_time": "2024-05-11T12:02:01.554934",
     "exception": false,
     "start_time": "2024-05-11T12:02:01.523781",
     "status": "completed"
    },
    "tags": []
   },
   "source": [
    "### Gaussian RBF kernel"
   ]
  },
  {
   "cell_type": "markdown",
   "id": "ea7cf618",
   "metadata": {
    "id": "LbUK0HsrppuF",
    "papermill": {
     "duration": 0.030044,
     "end_time": "2024-05-11T12:02:01.617187",
     "exception": false,
     "start_time": "2024-05-11T12:02:01.587143",
     "status": "completed"
    },
    "tags": []
   },
   "source": [
    "This kernel is a favorite choice in SVM, especially for data that doesn't line up straight. It's great for sorting data when you don't know much about it beforehand.\n",
    "\n",
    "**Formula:**\n",
    "\n",
    "$$F(x, x_j) = \\exp{(-\\gamma ||x - xj||^2)}$$\n",
    "\n",
    "Now, configure the SVC classifier with a sigmoid kernel. Get the prediction and evaluate it by function which you implemented before. Also plot confusion matrix as previous part."
   ]
  },
  {
   "cell_type": "code",
   "execution_count": 19,
   "id": "8c77aa9b",
   "metadata": {
    "execution": {
     "iopub.execute_input": "2024-05-11T12:02:01.680621Z",
     "iopub.status.busy": "2024-05-11T12:02:01.679560Z",
     "iopub.status.idle": "2024-05-11T12:02:02.739169Z",
     "shell.execute_reply": "2024-05-11T12:02:02.737784Z"
    },
    "id": "-rMfsMueppuF",
    "papermill": {
     "duration": 1.094659,
     "end_time": "2024-05-11T12:02:02.742107",
     "exception": false,
     "start_time": "2024-05-11T12:02:01.647448",
     "status": "completed"
    },
    "tags": []
   },
   "outputs": [
    {
     "name": "stdout",
     "output_type": "stream",
     "text": [
      "Accuracy: 0.8749028749028749\n"
     ]
    },
    {
     "data": {
      "image/png": "[encoded data removed]",
      "text/plain": [
       "<Figure size 1000x800 with 2 Axes>"
      ]
     },
     "metadata": {},
     "output_type": "display_data"
    }
   ],
   "source": [
    "import numpy as np\n",
    "import pandas as pd\n",
    "import seaborn as sns\n",
    "import matplotlib.pyplot as plt\n",
    "from sklearn.svm import SVC\n",
    "from sklearn.metrics import accuracy_score, confusion_matrix\n",
    "from sklearn.model_selection import train_test_split\n",
    "\n",
    "\n",
    "y_train = np.ravel(y_train)\n",
    "y_test = np.ravel(y_test)\n",
    "\n",
    "svm_rbf = SVC(kernel='rbf')\n",
    "svm_rbf.fit(X_train, y_train)\n",
    "\n",
    "y_pred = svm_rbf.predict(X_test)\n",
    "\n",
    "# Evaluate the model\n",
    "accuracy, confusion_mat = evaluate(y_test, y_pred)\n",
    "print(\"Accuracy:\", accuracy)\n",
    "\n",
    "# Plot confusion matrix\n",
    "cm_matrix = pd.DataFrame(data=confusion_mat)\n",
    "plt.figure(figsize=(10, 8))\n",
    "sns.heatmap(cm_matrix, annot=True, fmt='d', cmap='mako')\n",
    "plt.title(\"Confusion Matrix\")\n",
    "plt.xlabel(\"Predicted Label\")\n",
    "plt.ylabel(\"True Label\")\n",
    "plt.show()\n"
   ]
  },
  {
   "cell_type": "markdown",
   "id": "42e868ec",
   "metadata": {
    "id": "HLo0R3xHppuF",
    "papermill": {
     "duration": 0.030651,
     "end_time": "2024-05-11T12:02:02.803347",
     "exception": false,
     "start_time": "2024-05-11T12:02:02.772696",
     "status": "completed"
    },
    "tags": []
   },
   "source": [
    "### Polynomial Kernel"
   ]
  },
  {
   "cell_type": "markdown",
   "id": "4462f9f3",
   "metadata": {
    "id": "uguYMEY9ppuG",
    "papermill": {
     "duration": 0.029998,
     "end_time": "2024-05-11T12:02:02.865462",
     "exception": false,
     "start_time": "2024-05-11T12:02:02.835464",
     "status": "completed"
    },
    "tags": []
   },
   "source": [
    "This is a broader version of the linear kernel. It's not as popular because it's not as quick or precise.\n",
    "\n",
    "**Formula:**\n",
    "\n",
    "$$F(x, x_j) = (x.x_j+1)^d$$\n",
    "\n",
    "Now, set up the SVC classifier using a *polynomial* kernel. Get the prediction and evaluate it by function which you implemented before. Also plot confusion matrix as previous parts."
   ]
  },
  {
   "cell_type": "code",
   "execution_count": 20,
   "id": "e0c63994",
   "metadata": {
    "execution": {
     "iopub.execute_input": "2024-05-11T12:02:02.928991Z",
     "iopub.status.busy": "2024-05-11T12:02:02.928552Z",
     "iopub.status.idle": "2024-05-11T12:02:03.896914Z",
     "shell.execute_reply": "2024-05-11T12:02:03.895458Z"
    },
    "id": "tQlWSX99ppuG",
    "papermill": {
     "duration": 1.003734,
     "end_time": "2024-05-11T12:02:03.900007",
     "exception": false,
     "start_time": "2024-05-11T12:02:02.896273",
     "status": "completed"
    },
    "tags": []
   },
   "outputs": [
    {
     "name": "stdout",
     "output_type": "stream",
     "text": [
      "Accuracy: 0.8694638694638694\n"
     ]
    },
    {
     "data": {
      "image/png": "[encoded data removed]",
      "text/plain": [
       "<Figure size 1000x800 with 2 Axes>"
      ]
     },
     "metadata": {},
     "output_type": "display_data"
    }
   ],
   "source": [
    "import numpy as np\n",
    "import pandas as pd\n",
    "import seaborn as sns\n",
    "import matplotlib.pyplot as plt\n",
    "from sklearn.svm import SVC\n",
    "from sklearn.metrics import accuracy_score, confusion_matrix\n",
    "from sklearn.model_selection import train_test_split\n",
    "\n",
    "y_train = np.ravel(y_train)\n",
    "y_test = np.ravel(y_test)\n",
    "\n",
    "svm_poly = SVC(kernel='poly')\n",
    "svm_poly.fit(X_train, y_train)\n",
    "\n",
    "\n",
    "y_pred = svm_poly.predict(X_test)\n",
    "\n",
    "# Evaluate the model\n",
    "accuracy, confusion_mat = evaluate(y_test, y_pred)\n",
    "print(\"Accuracy:\", accuracy)\n",
    "\n",
    "# Plot confusion matrix\n",
    "cm_matrix = pd.DataFrame(data=confusion_mat)\n",
    "plt.figure(figsize=(10, 8))\n",
    "sns.heatmap(cm_matrix, annot=True, fmt='d', cmap='mako')\n",
    "plt.title(\"Confusion Matrix\")\n",
    "plt.xlabel(\"Predicted Label\")\n",
    "plt.ylabel(\"True Label\")\n",
    "plt.show()\n"
   ]
  },
  {
   "cell_type": "markdown",
   "id": "5c787b5d",
   "metadata": {
    "id": "9gDCKNEZppuG",
    "papermill": {
     "duration": 0.031108,
     "end_time": "2024-05-11T12:02:03.963253",
     "exception": false,
     "start_time": "2024-05-11T12:02:03.932145",
     "status": "completed"
    },
    "tags": []
   },
   "source": [
    "### Sigmoid Kernel"
   ]
  },
  {
   "cell_type": "markdown",
   "id": "04bc7fe6",
   "metadata": {
    "id": "4LVEbJdoppuG",
    "papermill": {
     "duration": 0.032164,
     "end_time": "2024-05-11T12:02:04.026968",
     "exception": false,
     "start_time": "2024-05-11T12:02:03.994804",
     "status": "completed"
    },
    "tags": []
   },
   "source": [
    "This is mainly chosen for use with neural networks. The kernel function acts like the activation function in a two-layer perceptron neural network model, helping to activate the neurons.\n",
    "\n",
    "**Formula:**\n",
    "\n",
    "$$F(x, x_j) = \\tanh(α x a y + c)$$\n",
    "\n",
    "Now, configure the SVC classifier with a sigmoid kernel. Get the prediction and evaluate it by function which you implemented before. Also plot confusion matrix as previous parts."
   ]
  },
  {
   "cell_type": "code",
   "execution_count": 21,
   "id": "bf6138d6",
   "metadata": {
    "execution": {
     "iopub.execute_input": "2024-05-11T12:02:04.092760Z",
     "iopub.status.busy": "2024-05-11T12:02:04.092296Z",
     "iopub.status.idle": "2024-05-11T12:02:05.765262Z",
     "shell.execute_reply": "2024-05-11T12:02:05.763620Z"
    },
    "id": "a0RXdE9OppuH",
    "papermill": {
     "duration": 1.709624,
     "end_time": "2024-05-11T12:02:05.768260",
     "exception": false,
     "start_time": "2024-05-11T12:02:04.058636",
     "status": "completed"
    },
    "tags": []
   },
   "outputs": [
    {
     "name": "stdout",
     "output_type": "stream",
     "text": [
      "Accuracy: 0.578088578088578\n"
     ]
    },
    {
     "data": {
      "image/png": "[encoded data removed]",
      "text/plain": [
       "<Figure size 1000x800 with 2 Axes>"
      ]
     },
     "metadata": {},
     "output_type": "display_data"
    }
   ],
   "source": [
    "import numpy as np\n",
    "import pandas as pd\n",
    "import seaborn as sns\n",
    "import matplotlib.pyplot as plt\n",
    "from sklearn.svm import SVC\n",
    "from sklearn.metrics import accuracy_score, confusion_matrix\n",
    "from sklearn.model_selection import train_test_split\n",
    "\n",
    "\n",
    "y_train = np.ravel(y_train)\n",
    "y_test = np.ravel(y_test)\n",
    "\n",
    "\n",
    "svm_sigmoid = SVC(kernel='sigmoid')\n",
    "svm_sigmoid.fit(X_train, y_train)\n",
    "\n",
    "y_pred = svm_sigmoid.predict(X_test)\n",
    "\n",
    "# Evaluate the model\n",
    "accuracy, confusion_mat = evaluate(y_test, y_pred)\n",
    "print(\"Accuracy:\", accuracy)\n",
    "\n",
    "# Plot confusion matrix\n",
    "cm_matrix = pd.DataFrame(data=confusion_mat)\n",
    "plt.figure(figsize=(10, 8))\n",
    "sns.heatmap(cm_matrix, annot=True, fmt='d', cmap='mako')\n",
    "plt.title(\"Confusion Matrix\")\n",
    "plt.xlabel(\"Predicted Label\")\n",
    "plt.ylabel(\"True Label\")\n",
    "plt.show()\n"
   ]
  },
  {
   "cell_type": "markdown",
   "id": "2ac30cf0",
   "metadata": {
    "id": "CVnKypnAppuH",
    "papermill": {
     "duration": 0.032114,
     "end_time": "2024-05-11T12:02:05.832880",
     "exception": false,
     "start_time": "2024-05-11T12:02:05.800766",
     "status": "completed"
    },
    "tags": []
   },
   "source": [
    "Compare these four kernel functions with each other. What are the main advantages and disadvantages of each one?"
   ]
  },
  {
   "cell_type": "markdown",
   "id": "64df7996",
   "metadata": {
    "id": "sSqFn5bWppuH",
    "papermill": {
     "duration": 0.032134,
     "end_time": "2024-05-11T12:02:05.897578",
     "exception": false,
     "start_time": "2024-05-11T12:02:05.865444",
     "status": "completed"
    },
    "tags": []
   },
   "source": [
    "### Comparison of Kernel Functions:\n",
    "\n",
    "1. Linear Kernel:\n",
    "   - **Advantages:**\n",
    "     - Simplicity: Easy to interpret and implement.\n",
    "     - Computationally efficient: Training and prediction times are typically faster compared to other kernel functions.\n",
    "   - **Disadvantages:**\n",
    "     - Limited flexibility: Only suitable for linearly separable data, may not perform well on non-linear datasets.\n",
    "\n",
    "2. Gaussian RBF Kernel:\n",
    "   - **Advantages:**\n",
    "     - Flexibility: Can handle non-linear relationships between features.\n",
    "     - Versatility: Works well with a wide range of datasets without requiring domain-specific knowledge.\n",
    "   - **Disadvantages:**\n",
    "     - Complexity: Computationally intensive, especially with large datasets.\n",
    "     - Sensitivity to hyperparameters: Performance highly dependent on the choice of gamma parameter.\n",
    "\n",
    "3. Polynomial Kernel:\n",
    "   - **Advantages:**\n",
    "     - Higher flexibility: Can capture more complex relationships between features compared to linear kernel.\n",
    "     - Can handle non-linear data: Allows for transformation of input data into higher-dimensional space.\n",
    "   - **Disadvantages:**\n",
    "     - Computational complexity: Training time increases with higher polynomial degrees.\n",
    "     - Risk of overfitting: Higher degrees can lead to overfitting, especially with small datasets.\n",
    "\n",
    "4. Sigmoid Kernel:\n",
    "   - **Advantages:**\n",
    "     - Suitable for specific cases: May perform well on certain types of non-linear data, such as those resembling neural network activations.\n",
    "   - **Disadvantages:**\n",
    "     - Sensitivity to parameters: Performance highly dependent on the choice of parameters alpha and c.\n",
    "     - Less commonly used: Not as widely applicable or versatile as other kernel functions.\n"
   ]
  },
  {
   "cell_type": "code",
   "execution_count": null,
   "id": "5c305d80",
   "metadata": {
    "id": "kVkMueWhTdbZ",
    "papermill": {
     "duration": 0.031765,
     "end_time": "2024-05-11T12:02:05.961642",
     "exception": false,
     "start_time": "2024-05-11T12:02:05.929877",
     "status": "completed"
    },
    "tags": []
   },
   "outputs": [],
   "source": []
  }
 ],
 "metadata": {
  "colab": {
   "provenance": []
  },
  "kaggle": {
   "accelerator": "none",
   "dataSources": [
    {
     "datasetId": 4985633,
     "sourceId": 8383264,
     "sourceType": "datasetVersion"
    }
   ],
   "dockerImageVersionId": 30698,
   "isGpuEnabled": false,
   "isInternetEnabled": true,
   "language": "python",
   "sourceType": "notebook"
  },
  "kernelspec": {
   "display_name": "Python 3 (ipykernel)",
   "language": "python",
   "name": "python3"
  },
  "language_info": {
   "codemirror_mode": {
    "name": "ipython",
    "version": 3
   },
   "file_extension": ".py",
   "mimetype": "text/x-python",
   "name": "python",
   "nbconvert_exporter": "python",
   "pygments_lexer": "ipython3",
   "version": "3.9.13"
  },
  "papermill": {
   "default_parameters": {},
   "duration": 2972.97968,
   "end_time": "2024-05-11T12:02:07.028967",
   "environment_variables": {},
   "exception": null,
   "input_path": "__notebook__.ipynb",
   "output_path": "__notebook__.ipynb",
   "parameters": {},
   "start_time": "2024-05-11T11:12:34.049287",
   "version": "2.5.0"
  }
 },
 "nbformat": 4,
 "nbformat_minor": 5
}
