{
  "cells": [
    {
      "cell_type": "markdown",
      "metadata": {
        "id": "6Y2oAz-bELlu"
      },
      "source": [
        "# **Introduction**"
      ]
    },
    {
      "cell_type": "markdown",
      "source": [
        "Payam Taebi\n",
        "400104867"
      ],
      "metadata": {
        "id": "MF4UvUxiIIKU"
      }
    },
    {
      "cell_type": "markdown",
      "metadata": {
        "id": "333JCswHnbQp"
      },
      "source": [
        "In this assignment, you will work with a dataset that includes The Boston housing data was collected in 1978 and each of the 506 entries represent aggregated data about 14 features for homes from various suburbs in Boston, Massachusetts. The target variable of interest in this dataset is the median value of owner-occupied homes (MEDV), which serves as a proxy for the house prices.\n",
        "First, you will start by fitting a basic regression model using scikit-learn (sklearn) to establish a baseline for comparison. This basic regression model will serve as a reference point for evaluating the performance of more sophisticated models incorporating regularization techniques.\n",
        "\n",
        "Furthermore, you will apply L1 (Lasso) and L2 (Ridge) regularization techniques to refine your predictions and evaluate the impact of these methods on the accuracy of your results. Regularization is a technique used to prevent overfitting by adding a penalty term to the loss function, encouraging simpler models with smaller coefficients. L1 regularization (Lasso) encourages sparsity by penalizing the absolute values of coefficients, while L2 regularization (Ridge) penalizes the square of coefficients. By incorporating these regularization techniques, you aim to improve the generalization performance of your regression models and obtain more robust predictions of house prices in the Boston area."
      ]
    },
    {
      "cell_type": "markdown",
      "metadata": {
        "id": "sDDdf9AAoYXt"
      },
      "source": [
        "## Imports"
      ]
    },
    {
      "cell_type": "code",
      "execution_count": 1,
      "metadata": {
        "colab": {
          "base_uri": "https://localhost:8080/"
        },
        "id": "kkjrbInyoRyN",
        "outputId": "ef99cc1b-706f-4a45-a4b8-1ff7ea82dd1a"
      },
      "outputs": [
        {
          "output_type": "stream",
          "name": "stdout",
          "text": [
            "--2024-04-12 16:25:32--  https://www.dropbox.com/scl/fi/j3rxgrd8l7fgczzhiedlp/new.csv?rlkey=yngaf57gumhtmm3hxffk20qll&dl=0\n",
            "Resolving www.dropbox.com (www.dropbox.com)... 162.125.1.18, 2620:100:6016:18::a27d:112\n",
            "Connecting to www.dropbox.com (www.dropbox.com)|162.125.1.18|:443... connected.\n",
            "HTTP request sent, awaiting response... 302 Found\n",
            "Location: https://uc1f69c65087785fd371a32b6de5.dl.dropboxusercontent.com/cd/0/inline/CQ5quuIfNwTqN0y_6MfM6BNh9hdTMVoBcgiQQEJ3Lk_HUaq7l9e8K8VFee4gy5LK9Uj14jW3UTmkSAzKI_Y__D3G6pcQ4oc2h2BhiKX74dLSAeiW1-pO0BSou54PdpFbBaU7Y6FInIAmB6EGv-5Dm51u/file# [following]\n",
            "--2024-04-12 16:25:32--  https://uc1f69c65087785fd371a32b6de5.dl.dropboxusercontent.com/cd/0/inline/CQ5quuIfNwTqN0y_6MfM6BNh9hdTMVoBcgiQQEJ3Lk_HUaq7l9e8K8VFee4gy5LK9Uj14jW3UTmkSAzKI_Y__D3G6pcQ4oc2h2BhiKX74dLSAeiW1-pO0BSou54PdpFbBaU7Y6FInIAmB6EGv-5Dm51u/file\n",
            "Resolving uc1f69c65087785fd371a32b6de5.dl.dropboxusercontent.com (uc1f69c65087785fd371a32b6de5.dl.dropboxusercontent.com)... 162.125.1.15, 2620:100:6016:15::a27d:10f\n",
            "Connecting to uc1f69c65087785fd371a32b6de5.dl.dropboxusercontent.com (uc1f69c65087785fd371a32b6de5.dl.dropboxusercontent.com)|162.125.1.15|:443... connected.\n",
            "HTTP request sent, awaiting response... 200 OK\n",
            "Length: 37599 (37K) [text/plain]\n",
            "Saving to: ‘/HousingData.csv’\n",
            "\n",
            "/HousingData.csv    100%[===================>]  36.72K  --.-KB/s    in 0.009s  \n",
            "\n",
            "2024-04-12 16:25:33 (3.90 MB/s) - ‘/HousingData.csv’ saved [37599/37599]\n",
            "\n"
          ]
        }
      ],
      "source": [
        "import os\n",
        "import pandas\n",
        "from sklearn.linear_model import LinearRegression, Lasso, Ridge\n",
        "from sklearn.metrics import mean_squared_error, r2_score\n",
        "from sklearn.model_selection import train_test_split\n",
        "from sklearn.preprocessing import StandardScaler, PolynomialFeatures\n",
        "import numpy as np\n",
        "import pandas as pd\n",
        "import seaborn as sns\n",
        "from joblib import dump, load\n",
        "from matplotlib import pyplot as plt\n",
        "\n",
        "!wget -O /HousingData.csv \"https://www.dropbox.com/scl/fi/j3rxgrd8l7fgczzhiedlp/new.csv?rlkey=yngaf57gumhtmm3hxffk20qll&dl=0\""
      ]
    },
    {
      "cell_type": "markdown",
      "metadata": {
        "id": "jBpa9AGHEtD7"
      },
      "source": [
        "# Load and Explore"
      ]
    },
    {
      "cell_type": "markdown",
      "metadata": {
        "id": "MFzJZLOxoZDJ"
      },
      "source": [
        "Load the dataset (as a dataframe) using pandas and display the top 5 rows of the dataframe and then check for missing values and impute missing values with mean"
      ]
    },
    {
      "cell_type": "code",
      "execution_count": 2,
      "metadata": {
        "colab": {
          "base_uri": "https://localhost:8080/"
        },
        "id": "lqhABVd2oZYV",
        "outputId": "afd2b112-e7dc-469a-e55f-80a323de4a14"
      },
      "outputs": [
        {
          "output_type": "stream",
          "name": "stdout",
          "text": [
            "Top 5 rows of the dataframe:\n",
            "      CRIM    ZN  INDUS  CHAS    NOX     RM   AGE     DIS  TAX  PTRATIO  \\\n",
            "0  0.00632  18.0   2.31   0.0  0.538  6.575  65.2  4.0900  296     15.3   \n",
            "1  0.02731   0.0   7.07   0.0  0.469  6.421  78.9  4.9671  242     17.8   \n",
            "2  0.02729   0.0   7.07   0.0  0.469  7.185  61.1  4.9671  242     17.8   \n",
            "3  0.03237   0.0   2.18   0.0  0.458  6.998  45.8  6.0622  222     18.7   \n",
            "4  0.06905   0.0   2.18   0.0  0.458  7.147  54.2  6.0622  222     18.7   \n",
            "\n",
            "        B      LSTAT  MEDV  \n",
            "0  396.90   4.980000  24.0  \n",
            "1  396.90   9.140000  21.6  \n",
            "2  392.83   4.030000  34.7  \n",
            "3  394.63   2.940000  33.4  \n",
            "4  396.90  12.715432  36.2  \n",
            "\n",
            "Checking for missing values:\n",
            "CRIM       0\n",
            "ZN         0\n",
            "INDUS      0\n",
            "CHAS       0\n",
            "NOX        0\n",
            "RM         0\n",
            "AGE        0\n",
            "DIS        0\n",
            "TAX        0\n",
            "PTRATIO    0\n",
            "B          0\n",
            "LSTAT      0\n",
            "MEDV       0\n",
            "dtype: int64\n",
            "\n",
            "Checking for missing values after imputation:\n",
            "CRIM       0\n",
            "ZN         0\n",
            "INDUS      0\n",
            "CHAS       0\n",
            "NOX        0\n",
            "RM         0\n",
            "AGE        0\n",
            "DIS        0\n",
            "TAX        0\n",
            "PTRATIO    0\n",
            "B          0\n",
            "LSTAT      0\n",
            "MEDV       0\n",
            "dtype: int64\n"
          ]
        }
      ],
      "source": [
        "file_path = '/HousingData.csv'\n",
        "\n",
        "housing_data = pd.read_csv(file_path)\n",
        "\n",
        "print(\"Top 5 rows of the dataframe:\")\n",
        "print(housing_data.head())\n",
        "\n",
        "\n",
        "print(\"\\nChecking for missing values:\")\n",
        "print(housing_data.isnull().sum())\n",
        "\n",
        "housing_data.fillna(housing_data.mean(), inplace=True)\n",
        "\n",
        "print(\"\\nChecking for missing values after imputation:\")\n",
        "print(housing_data.isnull().sum())\n"
      ]
    },
    {
      "cell_type": "markdown",
      "metadata": {
        "id": "5-Py3iuJoZwi"
      },
      "source": [
        "Get a brief description of the dataset"
      ]
    },
    {
      "cell_type": "code",
      "execution_count": 3,
      "metadata": {
        "colab": {
          "base_uri": "https://localhost:8080/"
        },
        "id": "zThHHTAcoZ_h",
        "outputId": "978a43d2-2ac0-446f-a67c-ebb503989ae4"
      },
      "outputs": [
        {
          "output_type": "stream",
          "name": "stdout",
          "text": [
            "Information about the dataset:\n",
            "<class 'pandas.core.frame.DataFrame'>\n",
            "RangeIndex: 506 entries, 0 to 505\n",
            "Data columns (total 13 columns):\n",
            " #   Column   Non-Null Count  Dtype  \n",
            "---  ------   --------------  -----  \n",
            " 0   CRIM     506 non-null    float64\n",
            " 1   ZN       506 non-null    float64\n",
            " 2   INDUS    506 non-null    float64\n",
            " 3   CHAS     506 non-null    float64\n",
            " 4   NOX      506 non-null    float64\n",
            " 5   RM       506 non-null    float64\n",
            " 6   AGE      506 non-null    float64\n",
            " 7   DIS      506 non-null    float64\n",
            " 8   TAX      506 non-null    int64  \n",
            " 9   PTRATIO  506 non-null    float64\n",
            " 10  B        506 non-null    float64\n",
            " 11  LSTAT    506 non-null    float64\n",
            " 12  MEDV     506 non-null    float64\n",
            "dtypes: float64(12), int64(1)\n",
            "memory usage: 51.5 KB\n",
            "None\n",
            "\n",
            "Summary statistics of the dataset:\n",
            "             CRIM          ZN       INDUS        CHAS         NOX          RM  \\\n",
            "count  506.000000  506.000000  506.000000  506.000000  506.000000  506.000000   \n",
            "mean     3.611874   11.211934   11.083992    0.069959    0.554695    6.284634   \n",
            "std      8.545770   22.921051    6.699165    0.250233    0.115878    0.702617   \n",
            "min      0.006320    0.000000    0.460000    0.000000    0.385000    3.561000   \n",
            "25%      0.083235    0.000000    5.190000    0.000000    0.449000    5.885500   \n",
            "50%      0.290250    0.000000    9.900000    0.000000    0.538000    6.208500   \n",
            "75%      3.611874   11.211934   18.100000    0.000000    0.624000    6.623500   \n",
            "max     88.976200  100.000000   27.740000    1.000000    0.871000    8.780000   \n",
            "\n",
            "              AGE         DIS         TAX     PTRATIO           B       LSTAT  \\\n",
            "count  506.000000  506.000000  506.000000  506.000000  506.000000  506.000000   \n",
            "mean    68.518519    3.795043  408.237154   18.455534  356.674032   12.715432   \n",
            "std     27.439466    2.105710  168.537116    2.164946   91.294864    7.012739   \n",
            "min      2.900000    1.129600  187.000000   12.600000    0.320000    1.730000   \n",
            "25%     45.925000    2.100175  279.000000   17.400000  375.377500    7.230000   \n",
            "50%     74.450000    3.207450  330.000000   19.050000  391.440000   11.995000   \n",
            "75%     93.575000    5.188425  666.000000   20.200000  396.225000   16.570000   \n",
            "max    100.000000   12.126500  711.000000   22.000000  396.900000   37.970000   \n",
            "\n",
            "             MEDV  \n",
            "count  506.000000  \n",
            "mean    22.532806  \n",
            "std      9.197104  \n",
            "min      5.000000  \n",
            "25%     17.025000  \n",
            "50%     21.200000  \n",
            "75%     25.000000  \n",
            "max     50.000000  \n"
          ]
        }
      ],
      "source": [
        "print(\"Information about the dataset:\")\n",
        "print(housing_data.info())\n",
        "\n",
        "print(\"\\nSummary statistics of the dataset:\")\n",
        "print(housing_data.describe())"
      ]
    },
    {
      "cell_type": "markdown",
      "metadata": {
        "id": "gHcKVT_4oabK"
      },
      "source": [
        "Extract only the features from the dataframe by removing the target column and then Convert the new dataframe into a numpy array\n",
        "</br>\n",
        "Note: **Do not remove the previous dataframe.**\n"
      ]
    },
    {
      "cell_type": "markdown",
      "metadata": {
        "id": "VkDUEmURE-Sx"
      },
      "source": [
        "# Preprocessing"
      ]
    },
    {
      "cell_type": "code",
      "execution_count": 4,
      "metadata": {
        "colab": {
          "base_uri": "https://localhost:8080/"
        },
        "id": "FtT8kFoBoajv",
        "outputId": "c6db33cd-ee17-47f2-bf84-7898d5145ef2"
      },
      "outputs": [
        {
          "output_type": "stream",
          "name": "stdout",
          "text": [
            "Shape of the features array: (506, 12)\n"
          ]
        }
      ],
      "source": [
        "features_array = housing_data.drop(columns=['MEDV']).values\n",
        "print(\"Shape of the features array:\", features_array.shape)"
      ]
    },
    {
      "cell_type": "markdown",
      "metadata": {
        "id": "forjBjgQHDz0"
      },
      "source": [
        "look for outliers using box plot and if There are some outliers in data, use StandardScaler can help in scaling data."
      ]
    },
    {
      "cell_type": "code",
      "execution_count": 5,
      "metadata": {
        "id": "fJVP9gGnFHbM",
        "colab": {
          "base_uri": "https://localhost:8080/",
          "height": 600
        },
        "outputId": "89570d4c-8530-470e-f654-271f6e2896ee"
      },
      "outputs": [
        {
          "output_type": "display_data",
          "data": {
            "text/plain": [
              "<Figure size 1000x600 with 1 Axes>"
            ],
            "image/png": "[encoded data removed]"
          },
          "metadata": {}
        },
        {
          "output_type": "stream",
          "name": "stdout",
          "text": [
            "Outliers are present in the data. Scaling data using StandardScaler...\n",
            "Data scaled successfully.\n"
          ]
        }
      ],
      "source": [
        "#box plot\n",
        "plt.figure(figsize=(10, 6))\n",
        "sns.boxplot(data=housing_data.drop(columns=['MEDV']), orient='h')\n",
        "plt.title('Box plot of features to identify outliers')\n",
        "plt.xlabel('Values')\n",
        "plt.show()\n",
        "\n",
        "# outlayer\n",
        "if housing_data.apply(lambda x: np.abs(x - x.mean()) / x.std()).max().max() > 3:\n",
        "    print(\"Outliers are present in the data. Scaling data using StandardScaler...\")\n",
        "    scaler = StandardScaler()\n",
        "    scaled_features = scaler.fit_transform(features_array)\n",
        "    print(\"Data scaled successfully.\")\n",
        "else:\n",
        "    print(\"No outliers present in the data. Scaling not required.\")\n"
      ]
    },
    {
      "cell_type": "code",
      "source": [
        "plt.figure(figsize=(14, 6))\n",
        "\n",
        "plt.subplot(1, 2, 1)\n",
        "plt.boxplot(features_array, vert=False)\n",
        "plt.title('Original Features Array')\n",
        "plt.xlabel('Values')\n",
        "\n",
        "plt.subplot(1, 2, 2)\n",
        "plt.boxplot(scaled_features, vert=False)\n",
        "plt.title('Scaled Features Array')\n",
        "plt.xlabel('Values')\n",
        "\n",
        "plt.tight_layout()\n",
        "plt.show()\n"
      ],
      "metadata": {
        "colab": {
          "base_uri": "https://localhost:8080/",
          "height": 607
        },
        "id": "H6_evQmzA8IY",
        "outputId": "4c68f83b-b57d-42a5-af18-9231b3aad964"
      },
      "execution_count": 6,
      "outputs": [
        {
          "output_type": "display_data",
          "data": {
            "text/plain": [
              "<Figure size 1400x600 with 2 Axes>"
            ],
            "image/png": "[encoded data removed]"
          },
          "metadata": {}
        }
      ]
    },
    {
      "cell_type": "markdown",
      "metadata": {
        "id": "mLfX6ugX3fNM"
      },
      "source": [
        "add polynomial features to increase model complexity!\n",
        "\n"
      ]
    },
    {
      "cell_type": "code",
      "execution_count": 7,
      "metadata": {
        "id": "rkEQ02jU3fXj",
        "colab": {
          "base_uri": "https://localhost:8080/"
        },
        "outputId": "e9d9ad0f-23d1-4177-8d28-4ed2a9d65d2d"
      },
      "outputs": [
        {
          "output_type": "stream",
          "name": "stdout",
          "text": [
            "Shape of the original features array: (506, 12)\n",
            "Shape of the new polynomial features array: (506, 91)\n"
          ]
        }
      ],
      "source": [
        "from sklearn.preprocessing import PolynomialFeatures\n",
        "\n",
        "y = housing_data['MEDV'].values\n",
        "\n",
        "poly_features = PolynomialFeatures(degree=2)\n",
        "poly_features.fit(scaled_features,y)\n",
        "X = poly_features.transform(scaled_features)\n",
        "\n",
        "\n",
        "#poly_features_array = poly_features.fit_transform(features_array)\n",
        "\n",
        "print(\"Shape of the original features array:\", features_array.shape)\n",
        "print(\"Shape of the new polynomial features array:\", X.shape)"
      ]
    },
    {
      "cell_type": "markdown",
      "metadata": {
        "id": "8_TZ52zNoatM"
      },
      "source": [
        "Extract the target column from the previously mentioned DataFrame and transform it into a new NumPy array, named y."
      ]
    },
    {
      "cell_type": "code",
      "execution_count": 8,
      "metadata": {
        "colab": {
          "base_uri": "https://localhost:8080/"
        },
        "id": "lzDxTUBFoa4I",
        "outputId": "252c0ed0-94ec-4653-8cff-32f8ea280fb2"
      },
      "outputs": [
        {
          "output_type": "stream",
          "name": "stdout",
          "text": [
            "Shape of the target array y: (506,)\n"
          ]
        }
      ],
      "source": [
        "y = housing_data['MEDV'].values\n",
        "\n",
        "print(\"Shape of the target array y:\", y.shape)"
      ]
    },
    {
      "cell_type": "markdown",
      "metadata": {
        "id": "6zVgga7tobBP"
      },
      "source": [
        "\n",
        "\n",
        "Split the dataset into two parts such that the training set contains 80% of the samples."
      ]
    },
    {
      "cell_type": "code",
      "execution_count": 9,
      "metadata": {
        "id": "2LGiy-8LobKh",
        "colab": {
          "base_uri": "https://localhost:8080/"
        },
        "outputId": "b87c4376-7345-4e84-c9a0-b2d6d4f29e61"
      },
      "outputs": [
        {
          "output_type": "stream",
          "name": "stdout",
          "text": [
            "Shape of X_train: (404, 91)\n",
            "Shape of X_test: (102, 91)\n",
            "Shape of y_train: (404,)\n",
            "Shape of y_test: (102,)\n"
          ]
        }
      ],
      "source": [
        "from sklearn.model_selection import train_test_split\n",
        "\n",
        "X_train, X_test, y_train, y_test = train_test_split(X, y, test_size=0.2, random_state=42)\n",
        "\n",
        "print(\"Shape of X_train:\", X_train.shape)\n",
        "print(\"Shape of X_test:\", X_test.shape)\n",
        "print(\"Shape of y_train:\", y_train.shape)\n",
        "print(\"Shape of y_test:\", y_test.shape)\n"
      ]
    },
    {
      "cell_type": "markdown",
      "metadata": {
        "id": "s-rejkt9FHTj"
      },
      "source": [
        "# Training"
      ]
    },
    {
      "cell_type": "markdown",
      "metadata": {
        "id": "_qoiRXLOv25z"
      },
      "source": [
        "\n",
        "Fit a linear regressor to the data. (Use sklearn)\n"
      ]
    },
    {
      "cell_type": "code",
      "execution_count": 10,
      "metadata": {
        "colab": {
          "base_uri": "https://localhost:8080/"
        },
        "id": "jWvwdl-Iv3FF",
        "outputId": "c887fa3a-285a-477a-f488-cc4a725dc211"
      },
      "outputs": [
        {
          "output_type": "stream",
          "name": "stdout",
          "text": [
            "Coefficients: [ 6.71326437e-15  2.61543210e+00  8.23937159e-01  2.71362629e-01\n",
            " -3.48211983e+00 -1.29409137e+00  3.44585661e+00 -1.21943076e+00\n",
            " -1.81707978e+00 -1.35705037e+00 -7.62724086e-01  9.41284776e-02\n",
            " -3.26790109e+00  1.88815533e-01 -2.12293611e+00  3.27201664e+00\n",
            "  2.99592944e+00 -2.33583776e+00  3.47631370e-01  2.08741825e-01\n",
            "  2.21883471e+00 -2.33322440e+00 -2.04447912e+00  7.41756805e-03\n",
            "  1.19322150e+00 -8.41126027e-02  1.01385910e-01  2.74709658e-01\n",
            " -2.78021092e+00 -1.52798130e-01  7.61588328e-01 -1.08630659e+00\n",
            "  2.97124880e+00 -2.68640233e-01 -3.02213841e+00 -1.60704564e+00\n",
            "  1.31321171e+00 -3.11014224e-01 -5.10197825e-01  1.28252455e+00\n",
            "  1.32809034e+00  1.38205448e+00 -6.50905063e-01 -1.06080996e+00\n",
            "  7.72225398e-01 -5.06351131e-01  1.37177961e+00 -1.08949576e+00\n",
            " -9.50138209e-01 -4.45437289e-01 -1.69626905e+00  5.47158139e-01\n",
            " -1.88581634e-01  6.91851939e-03 -4.71226094e-01 -3.79170284e-01\n",
            " -1.24093403e+00  3.76740641e-01  3.63408849e+00  1.95669949e+00\n",
            " -2.07628197e+00 -4.87583740e-01  5.33153600e-01  7.34804882e-01\n",
            " -4.76720613e-01  1.44799894e-01 -2.03085847e+00 -1.18219970e+00\n",
            " -4.62944660e-01  6.96661663e-01  6.21445264e-02  4.35302992e-01\n",
            " -6.72892447e-01  3.72240181e-01 -1.12519132e+00 -1.17650773e+00\n",
            "  2.24180978e+00 -2.15987726e+00 -5.33156830e-01  4.42541174e-01\n",
            "  7.40739848e-01 -1.18015450e-01  4.20887909e+00 -1.01095438e+00\n",
            " -2.48662060e+00 -4.86518994e-01  1.04890851e-01  7.61631914e-02\n",
            " -3.29742779e-01  1.63160538e-01  1.40255420e+00]\n",
            "Intercept: 20.072122691785793\n"
          ]
        }
      ],
      "source": [
        "from sklearn.linear_model import LinearRegression\n",
        "\n",
        "linear_regressor = LinearRegression()\n",
        "linear_regressor.fit(X_train, y_train)\n",
        "print(\"Coefficients:\", linear_regressor.coef_)\n",
        "print(\"Intercept:\", linear_regressor.intercept_)"
      ]
    },
    {
      "cell_type": "markdown",
      "metadata": {
        "id": "8ytvTJ60v3Oq"
      },
      "source": [
        "Get the coefficients of the variables and visualize it"
      ]
    },
    {
      "cell_type": "code",
      "execution_count": 11,
      "metadata": {
        "colab": {
          "base_uri": "https://localhost:8080/",
          "height": 564
        },
        "id": "Lh9C3xihv3X3",
        "outputId": "3ac3f91f-e341-4332-ccd6-8fba160884c6"
      },
      "outputs": [
        {
          "output_type": "display_data",
          "data": {
            "text/plain": [
              "<Figure size 1000x600 with 1 Axes>"
            ],
            "image/png": "[encoded data removed]"
          },
          "metadata": {}
        }
      ],
      "source": [
        "coefficients = linear_regressor.coef_\n",
        "indices = range(len(coefficients))\n",
        "\n",
        "# Plot coefficients\n",
        "plt.figure(figsize=(10, 6))\n",
        "plt.bar(indices, coefficients, color='skyblue')\n",
        "plt.xlabel('Coefficient Index')\n",
        "plt.ylabel('Coefficient Value')\n",
        "plt.title('Coefficients of the Model')\n",
        "plt.show()"
      ]
    },
    {
      "cell_type": "markdown",
      "metadata": {
        "id": "eTCcA4W8v3f4"
      },
      "source": [
        "Get the score value of sklearn regressor on train dataset</br>\n",
        "if you are not familiar with R-squared concept see the link below:\n",
        "[R-squared](https://statisticsbyjim.com/regression/interpret-r-squared-regression/)\n",
        "\n"
      ]
    },
    {
      "cell_type": "code",
      "execution_count": 12,
      "metadata": {
        "id": "onAXRIl7v3qJ",
        "colab": {
          "base_uri": "https://localhost:8080/"
        },
        "outputId": "20aab601-cf89-4db9-9d01-573358b9b085"
      },
      "outputs": [
        {
          "output_type": "stream",
          "name": "stdout",
          "text": [
            "R-squared score on the training dataset: 0.9233615957926449\n",
            "Mean Squared Error on the training dataset: 6.65783903781899\n"
          ]
        }
      ],
      "source": [
        "from sklearn.metrics import mean_squared_error, r2_score\n",
        "\n",
        "y_train_pred1 = linear_regressor.predict(X_train)\n",
        "\n",
        "r2_train = r2_score(y_train, y_train_pred1)\n",
        "\n",
        "mse_train = mean_squared_error(y_train, y_train_pred1)\n",
        "\n",
        "print(\"R-squared score on the training dataset:\", r2_train)\n",
        "print(\"Mean Squared Error on the training dataset:\", mse_train)"
      ]
    },
    {
      "cell_type": "markdown",
      "metadata": {
        "id": "RXBvLGMcwpbT"
      },
      "source": [
        "Predict the value of \"y\" for each \"x\" belonging to the \"testing\" set"
      ]
    },
    {
      "cell_type": "code",
      "execution_count": 13,
      "metadata": {
        "id": "bA_DNqeKwprp",
        "colab": {
          "base_uri": "https://localhost:8080/"
        },
        "outputId": "b1b12bf0-b674-4192-d02f-1a55b9a8bb99"
      },
      "outputs": [
        {
          "output_type": "stream",
          "name": "stdout",
          "text": [
            "[26.60760472 39.62214268 18.71401934 21.00627478 15.36932115 18.14967249\n",
            " 19.2680689  14.04520907 20.41411804 19.68358046 19.34721612 17.80080883\n",
            "  9.52923494 17.56130221 17.61765281 23.1886407  19.83784911  9.82571722\n",
            " 48.00938013 13.01200313 24.67113881 28.75366122 15.14797668 19.48768303\n",
            " 16.8711114  16.54597743 17.07120558 13.34377675 16.66485127 19.34855953\n",
            " 18.50229727 23.95889069 15.48239335 25.70102382 13.69224402 17.48588361\n",
            " 33.1589375  20.10130817 20.24277819 21.68697931 16.91569466 31.33039866\n",
            " 53.78155342 15.35787882 27.30502419 15.90970181 14.76748839 23.49841731\n",
            " 17.57527936 29.19894908 19.95253249 33.61207695 17.02933983 26.86934524\n",
            " 44.01327048 23.0722288  13.43102214 32.42020215 25.15187612 12.20309801\n",
            " 25.03914004 29.01333968 31.99975955 14.25741358 27.2478974  13.81980117\n",
            " 14.35877776 24.56841459 29.12596225 12.07120755 21.52505912 27.39851469\n",
            "  9.60239834 22.99803726 19.8464662   7.55139317 22.13069349 49.95089019\n",
            " 11.35178549 11.98183645 18.34848076 12.31262512 15.91992994 11.17875652\n",
            " 20.05758709 28.21017905 17.52432039 24.64183624 25.95216955 18.86643395\n",
            " 24.91833318  7.26540165 20.04649013 17.38110339 44.76506329 20.87525411\n",
            " 25.80390969  5.75854824 11.00494177 15.63482602 23.13270522 20.58824762]\n"
          ]
        }
      ],
      "source": [
        "y_test_pred1 = linear_regressor.predict(X_test)\n",
        "\n",
        "print(y_test_pred1)"
      ]
    },
    {
      "cell_type": "markdown",
      "metadata": {
        "id": "z_aF3pNEFP79"
      },
      "source": [
        "# Lasso Regularization(L1)"
      ]
    },
    {
      "cell_type": "markdown",
      "metadata": {
        "id": "PPMTy_D_wp-X"
      },
      "source": [
        "L1 regularization, also known as Lasso (Least Absolute Shrinkage and Selection Operator) regularization, is a technique used in regression models that encourages simplicity and sparsity in the model coefficients. This is achieved by adding a penalty equal to the absolute value of the magnitude of coefficients to the loss function.\\\n",
        "</br>\n",
        "Train a regression model using L1 regularization."
      ]
    },
    {
      "cell_type": "code",
      "execution_count": 14,
      "metadata": {
        "colab": {
          "base_uri": "https://localhost:8080/",
          "height": 74
        },
        "id": "SHr5JR4fwqHO",
        "outputId": "2d8115e5-6445-4050-9cbb-253ee2d03d87"
      },
      "outputs": [
        {
          "output_type": "execute_result",
          "data": {
            "text/plain": [
              "Lasso(alpha=0.5)"
            ],
            "text/html": [
              "<style>#sk-container-id-1 {color: black;background-color: white;}#sk-container-id-1 pre{padding: 0;}#sk-container-id-1 div.sk-toggleable {background-color: white;}#sk-container-id-1 label.sk-toggleable__label {cursor: pointer;display: block;width: 100%;margin-bottom: 0;padding: 0.3em;box-sizing: border-box;text-align: center;}#sk-container-id-1 label.sk-toggleable__label-arrow:before {content: \"▸\";float: left;margin-right: 0.25em;color: #696969;}#sk-container-id-1 label.sk-toggleable__label-arrow:hover:before {color: black;}#sk-container-id-1 div.sk-estimator:hover label.sk-toggleable__label-arrow:before {color: black;}#sk-container-id-1 div.sk-toggleable__content {max-height: 0;max-width: 0;overflow: hidden;text-align: left;background-color: #f0f8ff;}#sk-container-id-1 div.sk-toggleable__content pre {margin: 0.2em;color: black;border-radius: 0.25em;background-color: #f0f8ff;}#sk-container-id-1 input.sk-toggleable__control:checked~div.sk-toggleable__content {max-height: 200px;max-width: 100%;overflow: auto;}#sk-container-id-1 input.sk-toggleable__control:checked~label.sk-toggleable__label-arrow:before {content: \"▾\";}#sk-container-id-1 div.sk-estimator input.sk-toggleable__control:checked~label.sk-toggleable__label {background-color: #d4ebff;}#sk-container-id-1 div.sk-label input.sk-toggleable__control:checked~label.sk-toggleable__label {background-color: #d4ebff;}#sk-container-id-1 input.sk-hidden--visually {border: 0;clip: rect(1px 1px 1px 1px);clip: rect(1px, 1px, 1px, 1px);height: 1px;margin: -1px;overflow: hidden;padding: 0;position: absolute;width: 1px;}#sk-container-id-1 div.sk-estimator {font-family: monospace;background-color: #f0f8ff;border: 1px dotted black;border-radius: 0.25em;box-sizing: border-box;margin-bottom: 0.5em;}#sk-container-id-1 div.sk-estimator:hover {background-color: #d4ebff;}#sk-container-id-1 div.sk-parallel-item::after {content: \"\";width: 100%;border-bottom: 1px solid gray;flex-grow: 1;}#sk-container-id-1 div.sk-label:hover label.sk-toggleable__label {background-color: #d4ebff;}#sk-container-id-1 div.sk-serial::before {content: \"\";position: absolute;border-left: 1px solid gray;box-sizing: border-box;top: 0;bottom: 0;left: 50%;z-index: 0;}#sk-container-id-1 div.sk-serial {display: flex;flex-direction: column;align-items: center;background-color: white;padding-right: 0.2em;padding-left: 0.2em;position: relative;}#sk-container-id-1 div.sk-item {position: relative;z-index: 1;}#sk-container-id-1 div.sk-parallel {display: flex;align-items: stretch;justify-content: center;background-color: white;position: relative;}#sk-container-id-1 div.sk-item::before, #sk-container-id-1 div.sk-parallel-item::before {content: \"\";position: absolute;border-left: 1px solid gray;box-sizing: border-box;top: 0;bottom: 0;left: 50%;z-index: -1;}#sk-container-id-1 div.sk-parallel-item {display: flex;flex-direction: column;z-index: 1;position: relative;background-color: white;}#sk-container-id-1 div.sk-parallel-item:first-child::after {align-self: flex-end;width: 50%;}#sk-container-id-1 div.sk-parallel-item:last-child::after {align-self: flex-start;width: 50%;}#sk-container-id-1 div.sk-parallel-item:only-child::after {width: 0;}#sk-container-id-1 div.sk-dashed-wrapped {border: 1px dashed gray;margin: 0 0.4em 0.5em 0.4em;box-sizing: border-box;padding-bottom: 0.4em;background-color: white;}#sk-container-id-1 div.sk-label label {font-family: monospace;font-weight: bold;display: inline-block;line-height: 1.2em;}#sk-container-id-1 div.sk-label-container {text-align: center;}#sk-container-id-1 div.sk-container {/* jupyter's `normalize.less` sets `[hidden] { display: none; }` but bootstrap.min.css set `[hidden] { display: none !important; }` so we also need the `!important` here to be able to override the default hidden behavior on the sphinx rendered scikit-learn.org. See: https://github.com/scikit-learn/scikit-learn/issues/21755 */display: inline-block !important;position: relative;}#sk-container-id-1 div.sk-text-repr-fallback {display: none;}</style><div id=\"sk-container-id-1\" class=\"sk-top-container\"><div class=\"sk-text-repr-fallback\"><pre>Lasso(alpha=0.5)</pre><b>In a Jupyter environment, please rerun this cell to show the HTML representation or trust the notebook. <br />On GitHub, the HTML representation is unable to render, please try loading this page with nbviewer.org.</b></div><div class=\"sk-container\" hidden><div class=\"sk-item\"><div class=\"sk-estimator sk-toggleable\"><input class=\"sk-toggleable__control sk-hidden--visually\" id=\"sk-estimator-id-1\" type=\"checkbox\" checked><label for=\"sk-estimator-id-1\" class=\"sk-toggleable__label sk-toggleable__label-arrow\">Lasso</label><div class=\"sk-toggleable__content\"><pre>Lasso(alpha=0.5)</pre></div></div></div></div></div>"
            ]
          },
          "metadata": {},
          "execution_count": 14
        }
      ],
      "source": [
        "alpha = 0.5\n",
        "lasso = Lasso(alpha=alpha)\n",
        "lasso.fit(X_train, y_train)"
      ]
    },
    {
      "cell_type": "markdown",
      "metadata": {
        "id": "du892nvjwqPi"
      },
      "source": [
        "Get the coefficients of the variables and visualize it."
      ]
    },
    {
      "cell_type": "code",
      "execution_count": 15,
      "metadata": {
        "colab": {
          "base_uri": "https://localhost:8080/",
          "height": 854
        },
        "id": "W-yiCdq1wqcn",
        "outputId": "7da5baf8-02b5-46f9-947a-01fa4d1c5673"
      },
      "outputs": [
        {
          "output_type": "stream",
          "name": "stdout",
          "text": [
            "[ 0.         -0.          0.         -0.          0.         -0.\n",
            "  2.71044561 -0.         -0.         -0.17551806 -0.87919831  0.\n",
            " -3.61571562 -0.09172222  0.         -0.          0.         -0.\n",
            "  0.         -0.          0.         -0.         -0.         -0.\n",
            " -0.          0.          0.          0.          0.          0.\n",
            " -0.         -0.          0.          0.         -0.         -0.\n",
            "  0.          0.         -0.         -0.          0.          0.\n",
            "  0.         -0.          0.         -0.          0.21657471 -0.\n",
            " -0.          0.         -0.          0.09712834  0.          0.\n",
            " -0.         -0.20798319 -0.1485112  -0.          0.         -0.\n",
            " -0.          0.         -0.          0.7562266  -0.          0.\n",
            " -0.85199921 -0.59720675  0.         -0.          0.          0.\n",
            " -0.         -0.         -0.         -0.         -0.          0.\n",
            "  0.         -0.          0.26961623  0.          0.         -0.\n",
            " -0.8353172   0.         -0.         -0.         -0.24304235 -0.\n",
            "  0.46962857]\n"
          ]
        },
        {
          "output_type": "display_data",
          "data": {
            "text/plain": [
              "<Figure size 1000x600 with 1 Axes>"
            ],
            "image/png": "[encoded data removed]"
          },
          "metadata": {}
        }
      ],
      "source": [
        "import numpy as np\n",
        "import matplotlib.pyplot as plt\n",
        "\n",
        "\n",
        "coefficients = lasso.coef_\n",
        "print(coefficients)\n",
        "\n",
        "\n",
        "indices = np.arange(len(coefficients))\n",
        "\n",
        "# Visualize\n",
        "plt.figure(figsize=(10, 6))\n",
        "plt.bar(indices, coefficients)\n",
        "plt.xlabel('Index')\n",
        "plt.ylabel('Coefficient Value')\n",
        "plt.title('Lasso Coefficients by Index')\n",
        "plt.grid(True)\n",
        "plt.show()\n"
      ]
    },
    {
      "cell_type": "markdown",
      "metadata": {
        "id": "mI3QuD8Wydqc"
      },
      "source": [
        "1- What observations can you make about the weight distribution when applying L1 regularization?\n",
        "\n",
        "2- How do different values of the regularization parameter (alpha) affect the sparsity of the model coefficients?"
      ]
    },
    {
      "cell_type": "markdown",
      "metadata": {
        "id": "RREHXw6dydzd"
      },
      "source": [
        "1. **Observations about weight distribution with L1 regularization:**\n",
        "   - When we apply L1 regularization, also known as Lasso regularization, to our model, we notice that it tends to encourage sparsity in the weight distribution.\n",
        "   - This means that many coefficients become exactly zero, resulting in a sparse weight distribution.\n",
        "   - Essentially, L1 regularization helps in feature selection by shrinking less important feature coefficients towards zero, effectively removing them from the model.\n",
        "   \n",
        "2. **Effect of different values of the regularization parameter (alpha) on sparsity:**\n",
        "   - The regularization parameter, often denoted as alpha, controls the strength of regularization applied to the model.\n",
        "   - Higher values of alpha lead to stronger regularization, which in turn results in a sparser model with more coefficients set to zero.\n",
        "   - Conversely, lower values of alpha result in weaker regularization, allowing more coefficients to retain non-zero values.\n",
        "   - Therefore, by adjusting the alpha parameter, we can control the sparsity of the model. Higher alpha encourages stronger sparsity, while lower alpha allows for more non-zero coefficients.\n",
        "   - It's important to select an appropriate value for alpha based on the trade-offs between model complexity, interpretability, and predictive performance. This selection can be guided by techniques like cross-validation to find the optimal alpha value for our specific dataset and task.\n"
      ]
    },
    {
      "cell_type": "markdown",
      "metadata": {
        "id": "VWHqbCktz2OD"
      },
      "source": [
        "Get the score value on train *dataset*\n"
      ]
    },
    {
      "cell_type": "code",
      "execution_count": 16,
      "metadata": {
        "colab": {
          "base_uri": "https://localhost:8080/"
        },
        "id": "RbHNlgfTz2WI",
        "outputId": "52f1bbbc-427c-4e3e-ffb5-1c1d1ab4c043"
      },
      "outputs": [
        {
          "output_type": "stream",
          "name": "stdout",
          "text": [
            "R² score on training set: 0.8171286694481938\n",
            "Mean Squared Error on training set: 15.88665494849732\n"
          ]
        }
      ],
      "source": [
        "y_train_pred2 = lasso.predict(X_train)\n",
        "\n",
        "r2_train = r2_score(y_train, y_train_pred2)\n",
        "print(\"R² score on training set:\", r2_train)\n",
        "\n",
        "mse_train = mean_squared_error(y_train, y_train_pred2)\n",
        "print(\"Mean Squared Error on training set:\", mse_train)"
      ]
    },
    {
      "cell_type": "markdown",
      "metadata": {
        "id": "hjI1nMXVz2f2"
      },
      "source": [
        "Predict the value of \"y\" for each \"x\" belonging to the \"testing\" set"
      ]
    },
    {
      "cell_type": "code",
      "execution_count": 17,
      "metadata": {
        "id": "KfOWH0oQz2mY",
        "colab": {
          "base_uri": "https://localhost:8080/"
        },
        "outputId": "1bc09025-5bc9-491a-df93-6248081fcc2a"
      },
      "outputs": [
        {
          "output_type": "stream",
          "name": "stdout",
          "text": [
            "[25.01553605 32.02170508 16.56431707 23.67545781 17.13464034 21.69118954\n",
            " 18.08272601 14.79576716 20.40693987 19.6387817  21.53217387 19.92343501\n",
            "  6.64235117 21.28994714 19.61841959 22.15653103 18.10047426 11.57157362\n",
            " 42.41465504 16.42067495 21.39943226 25.60136064 15.78693485 22.04815612\n",
            " 17.9021186  17.00238679 19.88982538 13.39822411 21.17351703 19.18396855\n",
            " 18.45930572 24.45954182 22.28497567 22.26103013 14.87175003 17.51351063\n",
            " 32.12600448 20.57590791 22.56516819 20.96313305 15.55620789 27.56743981\n",
            " 44.34319575 18.69292057 24.52131935 17.12080258 16.94276939 24.60012608\n",
            " 18.02835641 28.77188928 21.29219328 31.99034286 17.89886858 25.3993675\n",
            " 39.45589001 22.16073425 17.33354312 28.94005254 23.43768009 17.00480941\n",
            " 24.78746672 31.5308728  28.44268606 19.11754198 26.06453555 17.74025689\n",
            " 17.46661041 24.07595784 27.21904407 12.41794401 18.96854429 25.30678507\n",
            " 12.52088818 21.93187535 22.04846018  8.76834845 20.47808211 41.66158441\n",
            " 15.06191799 13.48259615 21.44899084 12.04377305 21.41888025 13.33517454\n",
            " 21.09970534 29.74964082 18.10571831 24.96133183 24.51130599 19.7996216\n",
            " 22.33310177 10.22300224 20.74225997 19.942328   33.26834975 21.54646686\n",
            " 22.90863042  7.80871909 13.38402503 12.52417522 20.25376137 23.3348229 ]\n"
          ]
        }
      ],
      "source": [
        "y_test_pred2 = lasso.predict(X_test)\n",
        "print(y_test_pred2)"
      ]
    },
    {
      "cell_type": "markdown",
      "metadata": {
        "id": "XHpNCGELFZsu"
      },
      "source": [
        "# Ridge Regularization(L2)"
      ]
    },
    {
      "cell_type": "markdown",
      "metadata": {
        "id": "qsVvbx5vy3LP"
      },
      "source": [
        "L2 regularization, also known as Ridge regularization, is a technique used in regression models to prevent overfitting by adding a penalty equivalent to the square of the magnitude of coefficients to the loss function.\n",
        "</br>\n",
        "Train a regression model using L2 regularization."
      ]
    },
    {
      "cell_type": "code",
      "execution_count": 18,
      "metadata": {
        "colab": {
          "base_uri": "https://localhost:8080/",
          "height": 74
        },
        "id": "ww93tqpWwq99",
        "outputId": "b5a62d4b-fecb-45da-eb7b-09b057cf3954"
      },
      "outputs": [
        {
          "output_type": "execute_result",
          "data": {
            "text/plain": [
              "Ridge(alpha=10)"
            ],
            "text/html": [
              "<style>#sk-container-id-2 {color: black;background-color: white;}#sk-container-id-2 pre{padding: 0;}#sk-container-id-2 div.sk-toggleable {background-color: white;}#sk-container-id-2 label.sk-toggleable__label {cursor: pointer;display: block;width: 100%;margin-bottom: 0;padding: 0.3em;box-sizing: border-box;text-align: center;}#sk-container-id-2 label.sk-toggleable__label-arrow:before {content: \"▸\";float: left;margin-right: 0.25em;color: #696969;}#sk-container-id-2 label.sk-toggleable__label-arrow:hover:before {color: black;}#sk-container-id-2 div.sk-estimator:hover label.sk-toggleable__label-arrow:before {color: black;}#sk-container-id-2 div.sk-toggleable__content {max-height: 0;max-width: 0;overflow: hidden;text-align: left;background-color: #f0f8ff;}#sk-container-id-2 div.sk-toggleable__content pre {margin: 0.2em;color: black;border-radius: 0.25em;background-color: #f0f8ff;}#sk-container-id-2 input.sk-toggleable__control:checked~div.sk-toggleable__content {max-height: 200px;max-width: 100%;overflow: auto;}#sk-container-id-2 input.sk-toggleable__control:checked~label.sk-toggleable__label-arrow:before {content: \"▾\";}#sk-container-id-2 div.sk-estimator input.sk-toggleable__control:checked~label.sk-toggleable__label {background-color: #d4ebff;}#sk-container-id-2 div.sk-label input.sk-toggleable__control:checked~label.sk-toggleable__label {background-color: #d4ebff;}#sk-container-id-2 input.sk-hidden--visually {border: 0;clip: rect(1px 1px 1px 1px);clip: rect(1px, 1px, 1px, 1px);height: 1px;margin: -1px;overflow: hidden;padding: 0;position: absolute;width: 1px;}#sk-container-id-2 div.sk-estimator {font-family: monospace;background-color: #f0f8ff;border: 1px dotted black;border-radius: 0.25em;box-sizing: border-box;margin-bottom: 0.5em;}#sk-container-id-2 div.sk-estimator:hover {background-color: #d4ebff;}#sk-container-id-2 div.sk-parallel-item::after {content: \"\";width: 100%;border-bottom: 1px solid gray;flex-grow: 1;}#sk-container-id-2 div.sk-label:hover label.sk-toggleable__label {background-color: #d4ebff;}#sk-container-id-2 div.sk-serial::before {content: \"\";position: absolute;border-left: 1px solid gray;box-sizing: border-box;top: 0;bottom: 0;left: 50%;z-index: 0;}#sk-container-id-2 div.sk-serial {display: flex;flex-direction: column;align-items: center;background-color: white;padding-right: 0.2em;padding-left: 0.2em;position: relative;}#sk-container-id-2 div.sk-item {position: relative;z-index: 1;}#sk-container-id-2 div.sk-parallel {display: flex;align-items: stretch;justify-content: center;background-color: white;position: relative;}#sk-container-id-2 div.sk-item::before, #sk-container-id-2 div.sk-parallel-item::before {content: \"\";position: absolute;border-left: 1px solid gray;box-sizing: border-box;top: 0;bottom: 0;left: 50%;z-index: -1;}#sk-container-id-2 div.sk-parallel-item {display: flex;flex-direction: column;z-index: 1;position: relative;background-color: white;}#sk-container-id-2 div.sk-parallel-item:first-child::after {align-self: flex-end;width: 50%;}#sk-container-id-2 div.sk-parallel-item:last-child::after {align-self: flex-start;width: 50%;}#sk-container-id-2 div.sk-parallel-item:only-child::after {width: 0;}#sk-container-id-2 div.sk-dashed-wrapped {border: 1px dashed gray;margin: 0 0.4em 0.5em 0.4em;box-sizing: border-box;padding-bottom: 0.4em;background-color: white;}#sk-container-id-2 div.sk-label label {font-family: monospace;font-weight: bold;display: inline-block;line-height: 1.2em;}#sk-container-id-2 div.sk-label-container {text-align: center;}#sk-container-id-2 div.sk-container {/* jupyter's `normalize.less` sets `[hidden] { display: none; }` but bootstrap.min.css set `[hidden] { display: none !important; }` so we also need the `!important` here to be able to override the default hidden behavior on the sphinx rendered scikit-learn.org. See: https://github.com/scikit-learn/scikit-learn/issues/21755 */display: inline-block !important;position: relative;}#sk-container-id-2 div.sk-text-repr-fallback {display: none;}</style><div id=\"sk-container-id-2\" class=\"sk-top-container\"><div class=\"sk-text-repr-fallback\"><pre>Ridge(alpha=10)</pre><b>In a Jupyter environment, please rerun this cell to show the HTML representation or trust the notebook. <br />On GitHub, the HTML representation is unable to render, please try loading this page with nbviewer.org.</b></div><div class=\"sk-container\" hidden><div class=\"sk-item\"><div class=\"sk-estimator sk-toggleable\"><input class=\"sk-toggleable__control sk-hidden--visually\" id=\"sk-estimator-id-2\" type=\"checkbox\" checked><label for=\"sk-estimator-id-2\" class=\"sk-toggleable__label sk-toggleable__label-arrow\">Ridge</label><div class=\"sk-toggleable__content\"><pre>Ridge(alpha=10)</pre></div></div></div></div></div>"
            ]
          },
          "metadata": {},
          "execution_count": 18
        }
      ],
      "source": [
        "from sklearn.linear_model import Ridge\n",
        "ridge = Ridge(alpha=10)\n",
        "ridge.fit(X_train, y_train)"
      ]
    },
    {
      "cell_type": "markdown",
      "metadata": {
        "id": "EwXQdOdQ0c4y"
      },
      "source": [
        "Get the coefficients of the variables and visualize it."
      ]
    },
    {
      "cell_type": "code",
      "execution_count": 19,
      "metadata": {
        "colab": {
          "base_uri": "https://localhost:8080/",
          "height": 854
        },
        "id": "CmVqcA6r0dEe",
        "outputId": "4fe43eb7-3a5b-4068-d745-a20037444f4b"
      },
      "outputs": [
        {
          "output_type": "stream",
          "name": "stdout",
          "text": [
            "[ 0.          0.05912156  0.51116396 -0.28467561 -0.32455353 -0.85827735\n",
            "  3.30888276 -1.15903729 -1.59593251 -0.53180157 -0.91042787  0.42828162\n",
            " -2.94077889  0.16087076 -0.2517118   0.62754054  1.60530016 -1.09008989\n",
            "  0.19857273 -0.21466179  0.91315274 -0.33329639 -0.37069977 -0.0685445\n",
            "  0.53227529  0.13451302  0.04174477  0.21402759 -0.19753069 -0.13818418\n",
            "  0.11128147 -0.41118718  0.69356948 -0.05349153 -0.33153368 -0.6523907\n",
            "  0.65774546  0.00626011  0.17510478  0.56882038  0.84405893  0.75253857\n",
            " -0.01735362 -0.74138428  0.38541275 -0.84892644  0.44774634 -0.95605317\n",
            " -0.87633987 -0.11780543 -0.84245313  0.77371237 -0.05986682 -0.05282303\n",
            " -0.5612907  -0.35054369 -1.10824908 -0.28920456  0.95796985  0.161939\n",
            " -0.72743981 -0.23024552  0.59678367  0.61007814 -0.35547651  0.25507285\n",
            " -1.39082276 -1.30777268 -0.34506817  0.43935663  0.18768566  0.33640313\n",
            "  0.12071674  0.17082987 -0.88889616 -0.93434533  1.1011708  -0.55229718\n",
            " -0.01954442 -0.25679014  0.78714857  0.62433033  1.95275298 -0.76210143\n",
            " -1.82196645 -0.39640046  0.20411156 -0.0280015  -0.3462849   0.03535942\n",
            "  1.27443078]\n"
          ]
        },
        {
          "output_type": "display_data",
          "data": {
            "text/plain": [
              "<Figure size 1000x600 with 1 Axes>"
            ],
            "image/png": "[encoded data removed]"
          },
          "metadata": {}
        }
      ],
      "source": [
        "coefficients = ridge.coef_\n",
        "print(coefficients)\n",
        "\n",
        "\n",
        "indices = np.arange(len(coefficients))\n",
        "\n",
        "# Visualize\n",
        "plt.figure(figsize=(10, 6))\n",
        "plt.bar(indices, coefficients)\n",
        "plt.xlabel('Index')\n",
        "plt.ylabel('Coefficient Value')\n",
        "plt.title('Lasso Coefficients by Index')\n",
        "plt.grid(True)\n",
        "plt.show()"
      ]
    },
    {
      "cell_type": "markdown",
      "metadata": {
        "id": "uc_LYcVZ0dOQ"
      },
      "source": [
        "Compare the effect on coefficients between L1 and L2 regularization. What are the key differences?\n",
        "\n",
        " How does the regularization parameter influence the magnitude of the coefficients in Ridge Regression?"
      ]
    },
    {
      "cell_type": "markdown",
      "metadata": {
        "id": "vz3VZj1H1E5D"
      },
      "source": [
        "\n",
        "*L1 Regularization (Lasso):*\n",
        "- Encourages sparsity in the coefficient weights by setting many of them exactly to zero.\n",
        "- Leads to a sparse solution where only a subset of features is selected while others are effectively ignored.\n",
        "- Useful for feature selection and building simpler, more interpretable models.\n",
        "- Can be sensitive to correlated features as it tends to arbitrarily select one feature among highly correlated ones.\n",
        "\n",
        "*L2 Regularization (Ridge Regression):*\n",
        "- Shrinks the coefficient weights towards zero but rarely sets them exactly to zero.\n",
        "- Does not encourage sparsity but rather reduces the impact of less important features.\n",
        "- Generally more stable and less sensitive to correlated features compared to L1 regularization.\n",
        "- Useful for preventing overfitting and improving the generalization performance of the model.\n",
        "\n",
        "**Influence of Regularization Parameter on Ridge Regression:**\n",
        "- The regularization parameter, often denoted as lambda or alpha, controls the strength of regularization applied in Ridge Regression.\n",
        "- Increasing the regularization parameter increases the magnitude of the penalty applied to the coefficients.\n",
        "- As the regularization parameter becomes larger, the coefficients are shrunk more aggressively towards zero, leading to smaller overall magnitudes.\n",
        "- Conversely, decreasing the regularization parameter reduces the regularization effect, allowing the coefficients to retain larger magnitudes.\n",
        "- The choice of the regularization parameter is crucial in balancing the trade-off between model complexity and bias-variance trade-off. Too high a value can lead to underfitting, while too low a value can lead to overfitting.\n"
      ]
    },
    {
      "cell_type": "markdown",
      "metadata": {
        "id": "8-vwV52g1KaB"
      },
      "source": [
        "Get the score value on train *dataset*"
      ]
    },
    {
      "cell_type": "code",
      "execution_count": 20,
      "metadata": {
        "colab": {
          "base_uri": "https://localhost:8080/"
        },
        "id": "WgrPqaBF0dlc",
        "outputId": "a2f6a81d-f6e8-40c0-802d-fe1f57559297"
      },
      "outputs": [
        {
          "output_type": "stream",
          "name": "stdout",
          "text": [
            "R² score on training set: 0.9143940529441623\n",
            "Mean Squared Error on training set: 7.4368800090845655\n"
          ]
        }
      ],
      "source": [
        "y_train_pred3 = ridge.predict(X_train)\n",
        "\n",
        "r2_train = r2_score(y_train, y_train_pred3)\n",
        "print(\"R² score on training set:\", r2_train)\n",
        "\n",
        "mse_train = mean_squared_error(y_train, y_train_pred3)\n",
        "print(\"Mean Squared Error on training set:\", mse_train)"
      ]
    },
    {
      "cell_type": "markdown",
      "metadata": {
        "id": "94nftWCR0dtC"
      },
      "source": [
        "Predict the value of \"y\" for each \"x\" belonging to the \"testing\" set\n",
        "\n"
      ]
    },
    {
      "cell_type": "code",
      "execution_count": 21,
      "metadata": {
        "id": "ivsbD08X0d1E",
        "colab": {
          "base_uri": "https://localhost:8080/"
        },
        "outputId": "c3de83dd-eb87-467e-b2ff-24f2e50595b0"
      },
      "outputs": [
        {
          "output_type": "stream",
          "name": "stdout",
          "text": [
            "[26.64874045 37.58387034 19.27657644 21.94197185 15.3028101  20.12028532\n",
            " 19.06550135 13.09220054 21.53629599 19.59853597 19.98066811 17.71773856\n",
            "  7.45618135 19.4698435  17.83085991 22.41342776 19.03460611 10.83733093\n",
            " 47.87734976 13.23733086 25.94978663 28.67626209 15.62739061 20.87266644\n",
            " 16.88618107 16.70243714 18.15202381 12.99400863 19.06044753 19.1619615\n",
            " 18.49185044 23.96483655 16.81029968 24.22140047 14.71608764 17.14764076\n",
            " 33.00621736 20.36005585 21.56765845 22.00579786 16.87716829 30.83029389\n",
            " 52.86535583 16.40416721 26.70438602 16.00962769 15.37456958 24.22203195\n",
            " 18.0413712  28.35774744 18.65466298 33.07812494 17.01116837 25.34703163\n",
            " 43.22198358 23.00525594 14.66623572 32.34427145 25.00498764 14.21572885\n",
            " 24.95594853 33.4162596  30.78344757 16.16942493 25.19231399 16.02456508\n",
            " 14.58662856 24.41159615 30.32473275 12.3838725  20.94435871 27.5999913\n",
            " 10.37505112 21.25995733 20.86051995  5.76335445 20.67914828 49.65506758\n",
            " 11.15867412 13.79119622 19.12026295 12.02135127 17.93987097 11.65923594\n",
            " 20.4384127  28.76781807 17.1877647  24.60422767 25.97635678 17.98141095\n",
            " 24.09206253  7.78768441 19.1087218  18.44960327 40.68183317 20.20242572\n",
            " 24.78475146  5.72169792 11.11141082 13.76203915 22.7065681  21.98512667]\n"
          ]
        }
      ],
      "source": [
        "y_test_pred3 = ridge.predict(X_test)\n",
        "print(y_test_pred3)"
      ]
    },
    {
      "cell_type": "markdown",
      "metadata": {
        "id": "u6iKDyiwF-2q"
      },
      "source": [
        "# Summarization"
      ]
    },
    {
      "cell_type": "markdown",
      "metadata": {
        "id": "gY7NOCfB0d9K"
      },
      "source": [
        "Summarize the performance metrics (e.g., RMSE, R² score) of the basic regression model, Lasso regression, and Ridge regression in a table for easy comparison.(On both test and train data)</br>\n",
        "if you are not familiar with R-squared concept see the link below:\n",
        "[R-squared](https://statisticsbyjim.com/regression/interpret-r-squared-regression/)\n"
      ]
    },
    {
      "cell_type": "code",
      "execution_count": 22,
      "metadata": {
        "colab": {
          "base_uri": "https://localhost:8080/"
        },
        "id": "3gI-6r2r0eEx",
        "outputId": "1022ea4c-af7e-4db0-ccd8-70698fcc1ae1"
      },
      "outputs": [
        {
          "output_type": "stream",
          "name": "stdout",
          "text": [
            "              Model   MSE test  MSE train   R2 test  R2 train\n",
            "0  Basic Regression  18.122077   6.657839  0.752882  0.923362\n",
            "1  Lasso Regression  16.227427  15.886655  0.778718  0.817129\n",
            "2  Ridge Regression  15.110037   7.436880  0.793955  0.914394\n"
          ]
        }
      ],
      "source": [
        "import pandas as pd\n",
        "from sklearn.metrics import mean_squared_error, r2_score\n",
        "\n",
        "basic_train_rmse = mean_squared_error(y_train, y_train_pred1)\n",
        "basic_train_r2 = r2_score(y_train, y_train_pred1)\n",
        "basic_test_rmse = mean_squared_error(y_test, y_test_pred1)\n",
        "basic_test_r2 = r2_score(y_test, y_test_pred1)\n",
        "\n",
        "lasso_train_rmse = mean_squared_error(y_train, y_train_pred2)\n",
        "lasso_train_r2 = r2_score(y_train, y_train_pred2)\n",
        "lasso_test_rmse = mean_squared_error(y_test, y_test_pred2)\n",
        "lasso_test_r2 = r2_score(y_test, y_test_pred2)\n",
        "\n",
        "ridge_train_rmse = mean_squared_error(y_train, y_train_pred3)\n",
        "ridge_train_r2 = r2_score(y_train, y_train_pred3)\n",
        "ridge_test_rmse = mean_squared_error(y_test, y_test_pred3)\n",
        "ridge_test_r2 = r2_score(y_test, y_test_pred3)\n",
        "\n",
        "summary_df = pd.DataFrame({\n",
        "    'Model': ['Basic Regression', 'Lasso Regression', 'Ridge Regression'],\n",
        "    'MSE test': [basic_test_rmse, lasso_test_rmse, ridge_test_rmse],\n",
        "    'MSE train': [basic_train_rmse, lasso_train_rmse, ridge_train_rmse],\n",
        "    'R2 test': [basic_test_r2, lasso_test_r2, ridge_test_r2],\n",
        "    'R2 train': [basic_train_r2, lasso_train_r2, ridge_train_r2]\n",
        "})\n",
        "\n",
        "print(summary_df)\n"
      ]
    },
    {
      "cell_type": "markdown",
      "metadata": {
        "id": "dB2x-l231Soo"
      },
      "source": [
        " *Which model performed best on the test data?</br>\n",
        "Why the results on train data are different? </br>\n",
        "Discuss why this might be the case.*"
      ]
    },
    {
      "cell_type": "markdown",
      "metadata": {
        "id": "dRIs24F91SsH"
      },
      "source": [
        "the Ridge Regression model performed the best on the test data, as it has the lowest Mean Squared Error (MSE) on the test set compared to the other models.\n",
        "\n",
        "The results on the training data differ among the models primarily because each regression technique imposes different constraints on the model parameters during training:\n",
        "\n",
        "1. **Basic Regression**: This model seems to have the lowest MSE on the training data, suggesting it might be overfitting. Overfitting occurs when a model learns to fit the noise in the training data rather than the underlying pattern, leading to poor generalization to unseen data.\n",
        "\n",
        "2. **Lasso Regression**: Lasso Regression performs both variable selection and regularization, where it penalizes the absolute size of the coefficients. This penalty can shrink some coefficients to zero, effectively performing feature selection by excluding some predictors from the model. The higher MSE on the training data compared to the basic regression indicates that Lasso's regularization might be constraining the model too much, leading to slightly worse performance on the training set.\n",
        "\n",
        "3. **Ridge Regression**: Ridge Regression also applies regularization, but it penalizes the squared size of the coefficients. This penalty usually leads to less aggressive shrinking of coefficients compared to Lasso Regression. Consequently, Ridge Regression achieves lower MSE on the training data compared to Lasso, but still performs well on the test data, as indicated by its lowest MSE among the three models.\n",
        "\n",
        "In summary, while Basic Regression might have the lowest MSE on the training data, it likely suffers from overfitting and does not generalize well to unseen data. Lasso Regression performs variable selection, which can lead to higher training MSE but might improve generalization. Ridge Regression strikes a balance between reducing overfitting and maintaining good performance on unseen data, resulting in the best performance on the test data in this case.\n"
      ]
    }
  ],
  "metadata": {
    "colab": {
      "gpuType": "T4",
      "provenance": []
    },
    "kernelspec": {
      "display_name": "Python 3 (ipykernel)",
      "language": "python",
      "name": "python3"
    },
    "language_info": {
      "codemirror_mode": {
        "name": "ipython",
        "version": 3
      },
      "file_extension": ".py",
      "mimetype": "text/x-python",
      "name": "python",
      "nbconvert_exporter": "python",
      "pygments_lexer": "ipython3",
      "version": "3.9.13"
    }
  },
  "nbformat": 4,
  "nbformat_minor": 0
}